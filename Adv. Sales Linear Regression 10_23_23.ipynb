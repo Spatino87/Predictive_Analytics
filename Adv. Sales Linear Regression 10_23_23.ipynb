{
 "cells": [
  {
   "cell_type": "markdown",
   "metadata": {
    "id": "ZSBjGiLtkL8Z"
   },
   "source": [
    "#Task 1: Define the Problem"
   ]
  },
  {
   "cell_type": "code",
   "execution_count": 1,
   "metadata": {
    "id": "SRffAEZMkikd"
   },
   "outputs": [],
   "source": [
    "# In this notebook we are going to analyze the sales and predict views based advertising."
   ]
  },
  {
   "cell_type": "markdown",
   "metadata": {
    "id": "SYOM7cJ_kiY1"
   },
   "source": [
    "#Task 2a: Install the Needed Libraries"
   ]
  },
  {
   "cell_type": "code",
   "execution_count": 2,
   "metadata": {
    "id": "ft8kSvTUkiUd"
   },
   "outputs": [],
   "source": [
    "# No installations needed!"
   ]
  },
  {
   "cell_type": "markdown",
   "metadata": {
    "id": "OZNxHMuSkiON"
   },
   "source": [
    "#Task 2b: Import the Needed Libraries"
   ]
  },
  {
   "cell_type": "code",
   "execution_count": 3,
   "metadata": {
    "id": "HPsfw4s7kiKk"
   },
   "outputs": [],
   "source": [
    "import pandas as pd\n",
    "import numpy as np\n",
    "# Use seaborn for more flexibililty as matplotlib only gives a white background for plots\n",
    "# Can customize matplotlib but more complex then seaborn \n",
    "import seaborn as sns\n",
    "import matplotlib.pyplot as plt\n",
    "sns.set()"
   ]
  },
  {
   "cell_type": "markdown",
   "metadata": {
    "id": "umeaYS-SkiGU"
   },
   "source": [
    "#Task 3: Load the Data"
   ]
  },
  {
   "cell_type": "code",
   "execution_count": 4,
   "metadata": {
    "id": "loYU2Pg3kiCS"
   },
   "outputs": [],
   "source": [
    "# Data comes from the LGCC repository \n",
    "adv_df = pd.read_csv('https://raw.githubusercontent.com/niteen11/data301_predictive_analytics_machine_learning/main/data/advertising_sales_prediction.csv')"
   ]
  },
  {
   "cell_type": "markdown",
   "metadata": {
    "id": "OTaEVKXAkh-B"
   },
   "source": [
    "#Task 4: Perform Data Exploratory Analysis (EDA)"
   ]
  },
  {
   "cell_type": "markdown",
   "metadata": {
    "id": "2FyPB8fMkh6U"
   },
   "source": [
    "##Show the data"
   ]
  },
  {
   "cell_type": "code",
   "execution_count": 5,
   "metadata": {
    "colab": {
     "base_uri": "https://localhost:8080/",
     "height": 206
    },
    "executionInfo": {
     "elapsed": 157,
     "status": "ok",
     "timestamp": 1698101090442,
     "user": {
      "displayName": "Genghis Lopez",
      "userId": "12335099508766339007"
     },
     "user_tz": 240
    },
    "id": "x9efqRclkh14",
    "outputId": "d2832063-d784-4c58-bc6b-9f27df106a09"
   },
   "outputs": [
    {
     "data": {
      "text/html": [
       "<div>\n",
       "<style scoped>\n",
       "    .dataframe tbody tr th:only-of-type {\n",
       "        vertical-align: middle;\n",
       "    }\n",
       "\n",
       "    .dataframe tbody tr th {\n",
       "        vertical-align: top;\n",
       "    }\n",
       "\n",
       "    .dataframe thead th {\n",
       "        text-align: right;\n",
       "    }\n",
       "</style>\n",
       "<table border=\"1\" class=\"dataframe\">\n",
       "  <thead>\n",
       "    <tr style=\"text-align: right;\">\n",
       "      <th></th>\n",
       "      <th>Unnamed: 0</th>\n",
       "      <th>TV</th>\n",
       "      <th>Radio</th>\n",
       "      <th>Newspaper</th>\n",
       "      <th>Sales</th>\n",
       "    </tr>\n",
       "  </thead>\n",
       "  <tbody>\n",
       "    <tr>\n",
       "      <th>0</th>\n",
       "      <td>1</td>\n",
       "      <td>230.1</td>\n",
       "      <td>37.8</td>\n",
       "      <td>69.2</td>\n",
       "      <td>22.1</td>\n",
       "    </tr>\n",
       "    <tr>\n",
       "      <th>1</th>\n",
       "      <td>2</td>\n",
       "      <td>44.5</td>\n",
       "      <td>39.3</td>\n",
       "      <td>45.1</td>\n",
       "      <td>10.4</td>\n",
       "    </tr>\n",
       "    <tr>\n",
       "      <th>2</th>\n",
       "      <td>3</td>\n",
       "      <td>17.2</td>\n",
       "      <td>45.9</td>\n",
       "      <td>69.3</td>\n",
       "      <td>9.3</td>\n",
       "    </tr>\n",
       "    <tr>\n",
       "      <th>3</th>\n",
       "      <td>4</td>\n",
       "      <td>151.5</td>\n",
       "      <td>41.3</td>\n",
       "      <td>58.5</td>\n",
       "      <td>18.5</td>\n",
       "    </tr>\n",
       "    <tr>\n",
       "      <th>4</th>\n",
       "      <td>5</td>\n",
       "      <td>180.8</td>\n",
       "      <td>10.8</td>\n",
       "      <td>58.4</td>\n",
       "      <td>12.9</td>\n",
       "    </tr>\n",
       "  </tbody>\n",
       "</table>\n",
       "</div>"
      ],
      "text/plain": [
       "   Unnamed: 0     TV  Radio  Newspaper  Sales\n",
       "0           1  230.1   37.8       69.2   22.1\n",
       "1           2   44.5   39.3       45.1   10.4\n",
       "2           3   17.2   45.9       69.3    9.3\n",
       "3           4  151.5   41.3       58.5   18.5\n",
       "4           5  180.8   10.8       58.4   12.9"
      ]
     },
     "execution_count": 5,
     "metadata": {},
     "output_type": "execute_result"
    }
   ],
   "source": [
    "# Bring first 5 rows of df\n",
    "adv_df.head()"
   ]
  },
  {
   "cell_type": "markdown",
   "metadata": {
    "id": "yOaCGYX5khxz"
   },
   "source": [
    "##Get Data Info"
   ]
  },
  {
   "cell_type": "code",
   "execution_count": 6,
   "metadata": {
    "colab": {
     "base_uri": "https://localhost:8080/"
    },
    "executionInfo": {
     "elapsed": 150,
     "status": "ok",
     "timestamp": 1698101134877,
     "user": {
      "displayName": "Genghis Lopez",
      "userId": "12335099508766339007"
     },
     "user_tz": 240
    },
    "id": "fZWtjhbattwg",
    "outputId": "26cc0206-9176-4bc8-917a-c7d05fec9823"
   },
   "outputs": [
    {
     "data": {
      "text/plain": [
       "<bound method DataFrame.info of      Unnamed: 0     TV  Radio  Newspaper  Sales\n",
       "0             1  230.1   37.8       69.2   22.1\n",
       "1             2   44.5   39.3       45.1   10.4\n",
       "2             3   17.2   45.9       69.3    9.3\n",
       "3             4  151.5   41.3       58.5   18.5\n",
       "4             5  180.8   10.8       58.4   12.9\n",
       "..          ...    ...    ...        ...    ...\n",
       "195         196   38.2    3.7       13.8    7.6\n",
       "196         197   94.2    4.9        8.1    9.7\n",
       "197         198  177.0    9.3        6.4   12.8\n",
       "198         199  283.6   42.0       66.2   25.5\n",
       "199         200  232.1    8.6        8.7   13.4\n",
       "\n",
       "[200 rows x 5 columns]>"
      ]
     },
     "execution_count": 6,
     "metadata": {},
     "output_type": "execute_result"
    }
   ],
   "source": [
    "# Two ways to get info\n",
    "# This is not calling a method or a function\n",
    "# Function use to do stuff to the dataset\n",
    "# This is called an attribute\n",
    "adv_df.info"
   ]
  },
  {
   "cell_type": "code",
   "execution_count": 7,
   "metadata": {
    "colab": {
     "base_uri": "https://localhost:8080/"
    },
    "executionInfo": {
     "elapsed": 129,
     "status": "ok",
     "timestamp": 1698101104896,
     "user": {
      "displayName": "Genghis Lopez",
      "userId": "12335099508766339007"
     },
     "user_tz": 240
    },
    "id": "YbjJUPR4khtR",
    "outputId": "30c0c579-eead-4baa-b212-5815226ee61a"
   },
   "outputs": [
    {
     "name": "stdout",
     "output_type": "stream",
     "text": [
      "<class 'pandas.core.frame.DataFrame'>\n",
      "RangeIndex: 200 entries, 0 to 199\n",
      "Data columns (total 5 columns):\n",
      " #   Column      Non-Null Count  Dtype  \n",
      "---  ------      --------------  -----  \n",
      " 0   Unnamed: 0  200 non-null    int64  \n",
      " 1   TV          200 non-null    float64\n",
      " 2   Radio       200 non-null    float64\n",
      " 3   Newspaper   200 non-null    float64\n",
      " 4   Sales       200 non-null    float64\n",
      "dtypes: float64(4), int64(1)\n",
      "memory usage: 7.9 KB\n"
     ]
    }
   ],
   "source": [
    "# This way is calling a function/method\n",
    "# Method has brackets ()\n",
    "# method that provides details about the DataFrame, such as the column names, data types, number of non-null values, and memory usage.\n",
    "adv_df.info()"
   ]
  },
  {
   "cell_type": "code",
   "execution_count": 8,
   "metadata": {
    "colab": {
     "base_uri": "https://localhost:8080/"
    },
    "executionInfo": {
     "elapsed": 143,
     "status": "ok",
     "timestamp": 1698101218617,
     "user": {
      "displayName": "Genghis Lopez",
      "userId": "12335099508766339007"
     },
     "user_tz": 240
    },
    "id": "o-ji8cRMuBsE",
    "outputId": "84375125-7457-4543-990e-d8c7104574c8"
   },
   "outputs": [
    {
     "data": {
      "text/plain": [
       "(200, 5)"
      ]
     },
     "execution_count": 8,
     "metadata": {},
     "output_type": "execute_result"
    }
   ],
   "source": [
    "# returns a tuple representing the number of rows and columns in the df\n",
    "# Shapre implies what is the shape of this matrix\n",
    "# A matrix has two coordinates X and Y\n",
    "# X is the rows, Y is the columns \n",
    "# 200 rows, 5 columns\n",
    "adv_df.shape"
   ]
  },
  {
   "cell_type": "code",
   "execution_count": 9,
   "metadata": {
    "colab": {
     "base_uri": "https://localhost:8080/"
    },
    "executionInfo": {
     "elapsed": 139,
     "status": "ok",
     "timestamp": 1698101251668,
     "user": {
      "displayName": "Genghis Lopez",
      "userId": "12335099508766339007"
     },
     "user_tz": 240
    },
    "id": "ZnIKIi_JuBoJ",
    "outputId": "e69e9873-c455-4389-a25a-a5271e6b6d28"
   },
   "outputs": [
    {
     "data": {
      "text/plain": [
       "Index(['Unnamed: 0', 'TV', 'Radio', 'Newspaper', 'Sales'], dtype='object')"
      ]
     },
     "execution_count": 9,
     "metadata": {},
     "output_type": "execute_result"
    }
   ],
   "source": [
    "# attributes that returns an index objext representing the column labels or names\n",
    "adv_df.columns"
   ]
  },
  {
   "cell_type": "code",
   "execution_count": 10,
   "metadata": {
    "colab": {
     "base_uri": "https://localhost:8080/",
     "height": 362
    },
    "executionInfo": {
     "elapsed": 126,
     "status": "ok",
     "timestamp": 1698101269518,
     "user": {
      "displayName": "Genghis Lopez",
      "userId": "12335099508766339007"
     },
     "user_tz": 240
    },
    "id": "7C2aqpMVuBj_",
    "outputId": "2c1e7d61-eaa5-453b-bc07-33e6597714d3"
   },
   "outputs": [
    {
     "data": {
      "text/html": [
       "<div>\n",
       "<style scoped>\n",
       "    .dataframe tbody tr th:only-of-type {\n",
       "        vertical-align: middle;\n",
       "    }\n",
       "\n",
       "    .dataframe tbody tr th {\n",
       "        vertical-align: top;\n",
       "    }\n",
       "\n",
       "    .dataframe thead th {\n",
       "        text-align: right;\n",
       "    }\n",
       "</style>\n",
       "<table border=\"1\" class=\"dataframe\">\n",
       "  <thead>\n",
       "    <tr style=\"text-align: right;\">\n",
       "      <th></th>\n",
       "      <th>Unnamed: 0</th>\n",
       "      <th>TV</th>\n",
       "      <th>Radio</th>\n",
       "      <th>Newspaper</th>\n",
       "      <th>Sales</th>\n",
       "    </tr>\n",
       "  </thead>\n",
       "  <tbody>\n",
       "    <tr>\n",
       "      <th>0</th>\n",
       "      <td>1</td>\n",
       "      <td>230.1</td>\n",
       "      <td>37.8</td>\n",
       "      <td>69.2</td>\n",
       "      <td>22.1</td>\n",
       "    </tr>\n",
       "    <tr>\n",
       "      <th>1</th>\n",
       "      <td>2</td>\n",
       "      <td>44.5</td>\n",
       "      <td>39.3</td>\n",
       "      <td>45.1</td>\n",
       "      <td>10.4</td>\n",
       "    </tr>\n",
       "    <tr>\n",
       "      <th>2</th>\n",
       "      <td>3</td>\n",
       "      <td>17.2</td>\n",
       "      <td>45.9</td>\n",
       "      <td>69.3</td>\n",
       "      <td>9.3</td>\n",
       "    </tr>\n",
       "    <tr>\n",
       "      <th>3</th>\n",
       "      <td>4</td>\n",
       "      <td>151.5</td>\n",
       "      <td>41.3</td>\n",
       "      <td>58.5</td>\n",
       "      <td>18.5</td>\n",
       "    </tr>\n",
       "    <tr>\n",
       "      <th>4</th>\n",
       "      <td>5</td>\n",
       "      <td>180.8</td>\n",
       "      <td>10.8</td>\n",
       "      <td>58.4</td>\n",
       "      <td>12.9</td>\n",
       "    </tr>\n",
       "    <tr>\n",
       "      <th>5</th>\n",
       "      <td>6</td>\n",
       "      <td>8.7</td>\n",
       "      <td>48.9</td>\n",
       "      <td>75.0</td>\n",
       "      <td>7.2</td>\n",
       "    </tr>\n",
       "    <tr>\n",
       "      <th>6</th>\n",
       "      <td>7</td>\n",
       "      <td>57.5</td>\n",
       "      <td>32.8</td>\n",
       "      <td>23.5</td>\n",
       "      <td>11.8</td>\n",
       "    </tr>\n",
       "    <tr>\n",
       "      <th>7</th>\n",
       "      <td>8</td>\n",
       "      <td>120.2</td>\n",
       "      <td>19.6</td>\n",
       "      <td>11.6</td>\n",
       "      <td>13.2</td>\n",
       "    </tr>\n",
       "    <tr>\n",
       "      <th>8</th>\n",
       "      <td>9</td>\n",
       "      <td>8.6</td>\n",
       "      <td>2.1</td>\n",
       "      <td>1.0</td>\n",
       "      <td>4.8</td>\n",
       "    </tr>\n",
       "    <tr>\n",
       "      <th>9</th>\n",
       "      <td>10</td>\n",
       "      <td>199.8</td>\n",
       "      <td>2.6</td>\n",
       "      <td>21.2</td>\n",
       "      <td>10.6</td>\n",
       "    </tr>\n",
       "  </tbody>\n",
       "</table>\n",
       "</div>"
      ],
      "text/plain": [
       "   Unnamed: 0     TV  Radio  Newspaper  Sales\n",
       "0           1  230.1   37.8       69.2   22.1\n",
       "1           2   44.5   39.3       45.1   10.4\n",
       "2           3   17.2   45.9       69.3    9.3\n",
       "3           4  151.5   41.3       58.5   18.5\n",
       "4           5  180.8   10.8       58.4   12.9\n",
       "5           6    8.7   48.9       75.0    7.2\n",
       "6           7   57.5   32.8       23.5   11.8\n",
       "7           8  120.2   19.6       11.6   13.2\n",
       "8           9    8.6    2.1        1.0    4.8\n",
       "9          10  199.8    2.6       21.2   10.6"
      ]
     },
     "execution_count": 10,
     "metadata": {},
     "output_type": "execute_result"
    }
   ],
   "source": [
    "adv_df.head(10)"
   ]
  },
  {
   "cell_type": "code",
   "execution_count": 11,
   "metadata": {
    "id": "ZgbhkZ7ZuBf-"
   },
   "outputs": [],
   "source": [
    "# drop the column Unnamed:0\n",
    "adv_df = adv_df.drop(columns=['Unnamed: 0'])"
   ]
  },
  {
   "cell_type": "code",
   "execution_count": 12,
   "metadata": {
    "colab": {
     "base_uri": "https://localhost:8080/",
     "height": 362
    },
    "executionInfo": {
     "elapsed": 155,
     "status": "ok",
     "timestamp": 1698101324429,
     "user": {
      "displayName": "Genghis Lopez",
      "userId": "12335099508766339007"
     },
     "user_tz": 240
    },
    "id": "fLvJMGAhuBbz",
    "outputId": "7c05a321-24c6-4b3d-b2d8-0135981797cc"
   },
   "outputs": [
    {
     "data": {
      "text/html": [
       "<div>\n",
       "<style scoped>\n",
       "    .dataframe tbody tr th:only-of-type {\n",
       "        vertical-align: middle;\n",
       "    }\n",
       "\n",
       "    .dataframe tbody tr th {\n",
       "        vertical-align: top;\n",
       "    }\n",
       "\n",
       "    .dataframe thead th {\n",
       "        text-align: right;\n",
       "    }\n",
       "</style>\n",
       "<table border=\"1\" class=\"dataframe\">\n",
       "  <thead>\n",
       "    <tr style=\"text-align: right;\">\n",
       "      <th></th>\n",
       "      <th>TV</th>\n",
       "      <th>Radio</th>\n",
       "      <th>Newspaper</th>\n",
       "      <th>Sales</th>\n",
       "    </tr>\n",
       "  </thead>\n",
       "  <tbody>\n",
       "    <tr>\n",
       "      <th>0</th>\n",
       "      <td>230.1</td>\n",
       "      <td>37.8</td>\n",
       "      <td>69.2</td>\n",
       "      <td>22.1</td>\n",
       "    </tr>\n",
       "    <tr>\n",
       "      <th>1</th>\n",
       "      <td>44.5</td>\n",
       "      <td>39.3</td>\n",
       "      <td>45.1</td>\n",
       "      <td>10.4</td>\n",
       "    </tr>\n",
       "    <tr>\n",
       "      <th>2</th>\n",
       "      <td>17.2</td>\n",
       "      <td>45.9</td>\n",
       "      <td>69.3</td>\n",
       "      <td>9.3</td>\n",
       "    </tr>\n",
       "    <tr>\n",
       "      <th>3</th>\n",
       "      <td>151.5</td>\n",
       "      <td>41.3</td>\n",
       "      <td>58.5</td>\n",
       "      <td>18.5</td>\n",
       "    </tr>\n",
       "    <tr>\n",
       "      <th>4</th>\n",
       "      <td>180.8</td>\n",
       "      <td>10.8</td>\n",
       "      <td>58.4</td>\n",
       "      <td>12.9</td>\n",
       "    </tr>\n",
       "    <tr>\n",
       "      <th>5</th>\n",
       "      <td>8.7</td>\n",
       "      <td>48.9</td>\n",
       "      <td>75.0</td>\n",
       "      <td>7.2</td>\n",
       "    </tr>\n",
       "    <tr>\n",
       "      <th>6</th>\n",
       "      <td>57.5</td>\n",
       "      <td>32.8</td>\n",
       "      <td>23.5</td>\n",
       "      <td>11.8</td>\n",
       "    </tr>\n",
       "    <tr>\n",
       "      <th>7</th>\n",
       "      <td>120.2</td>\n",
       "      <td>19.6</td>\n",
       "      <td>11.6</td>\n",
       "      <td>13.2</td>\n",
       "    </tr>\n",
       "    <tr>\n",
       "      <th>8</th>\n",
       "      <td>8.6</td>\n",
       "      <td>2.1</td>\n",
       "      <td>1.0</td>\n",
       "      <td>4.8</td>\n",
       "    </tr>\n",
       "    <tr>\n",
       "      <th>9</th>\n",
       "      <td>199.8</td>\n",
       "      <td>2.6</td>\n",
       "      <td>21.2</td>\n",
       "      <td>10.6</td>\n",
       "    </tr>\n",
       "  </tbody>\n",
       "</table>\n",
       "</div>"
      ],
      "text/plain": [
       "      TV  Radio  Newspaper  Sales\n",
       "0  230.1   37.8       69.2   22.1\n",
       "1   44.5   39.3       45.1   10.4\n",
       "2   17.2   45.9       69.3    9.3\n",
       "3  151.5   41.3       58.5   18.5\n",
       "4  180.8   10.8       58.4   12.9\n",
       "5    8.7   48.9       75.0    7.2\n",
       "6   57.5   32.8       23.5   11.8\n",
       "7  120.2   19.6       11.6   13.2\n",
       "8    8.6    2.1        1.0    4.8\n",
       "9  199.8    2.6       21.2   10.6"
      ]
     },
     "execution_count": 12,
     "metadata": {},
     "output_type": "execute_result"
    }
   ],
   "source": [
    "adv_df.head(10)"
   ]
  },
  {
   "cell_type": "markdown",
   "metadata": {
    "id": "6GZsnSiMkhpo"
   },
   "source": [
    "##Find Missing Values"
   ]
  },
  {
   "cell_type": "code",
   "execution_count": 13,
   "metadata": {
    "colab": {
     "base_uri": "https://localhost:8080/"
    },
    "executionInfo": {
     "elapsed": 155,
     "status": "ok",
     "timestamp": 1698101348045,
     "user": {
      "displayName": "Genghis Lopez",
      "userId": "12335099508766339007"
     },
     "user_tz": 240
    },
    "id": "74hIKMpiuguA",
    "outputId": "805af2f5-ea03-4a05-cf12-b2b5444ff63f"
   },
   "outputs": [
    {
     "data": {
      "text/plain": [
       "False"
      ]
     },
     "execution_count": 13,
     "metadata": {},
     "output_type": "execute_result"
    }
   ],
   "source": [
    "# checks if there are any missing or null values in the entire DataFrame\n",
    "# adv_df.isnull(): This generates a DataFrame of the same shape as df, where each cell contains a boolean value indicating whether the corresponding cell in df is null (True) or not null (False).\n",
    "# .values: Converts this DataFrame into a NumPy array.\n",
    "# .any(): This method is used on the NumPy array to check if any of the values within the array are True.\n",
    "# returns True if there's at least one null value anywhere in the DataFrame df, and False if there are no null values.\n",
    "adv_df.isnull().values.any()"
   ]
  },
  {
   "cell_type": "markdown",
   "metadata": {
    "id": "HvFrMzIGmMOl"
   },
   "source": [
    "#Task 5: Perform Data Cleaning"
   ]
  },
  {
   "cell_type": "code",
   "execution_count": 14,
   "metadata": {
    "id": "S6cyPRAAmMLI"
   },
   "outputs": [],
   "source": [
    "# No cleaning needed"
   ]
  },
  {
   "cell_type": "markdown",
   "metadata": {
    "id": "nNu-6-3emMH5"
   },
   "source": [
    "#Task 6: Visualize Cleaned up Dataset"
   ]
  },
  {
   "cell_type": "code",
   "execution_count": 15,
   "metadata": {
    "id": "0HXS27ktmMEs"
   },
   "outputs": [],
   "source": [
    "# Not needed"
   ]
  },
  {
   "cell_type": "markdown",
   "metadata": {
    "id": "4k8nJyFemMBY"
   },
   "source": [
    "#Task 7: Conceptualize the problem"
   ]
  },
  {
   "cell_type": "code",
   "execution_count": 16,
   "metadata": {
    "id": "gu4nQbmQm9z8"
   },
   "outputs": [],
   "source": [
    "# When you begin a problem you will not know if you have to classify or predict\n",
    "# Might need a combination of both\n",
    "# This happens after you clean the data and you know how it looks\n",
    "# This is when you say using my data i am going to predict or classify"
   ]
  },
  {
   "cell_type": "markdown",
   "metadata": {
    "id": "E9xy8hetm9wG"
   },
   "source": [
    "#Task 8: Perform Data-Split"
   ]
  },
  {
   "cell_type": "code",
   "execution_count": 17,
   "metadata": {
    "id": "Swr_A0p1m9r6"
   },
   "outputs": [],
   "source": [
    "# Trying to find the slope of a line\n",
    "# For us to find the equation of the line you need the Y the X and the intercept\n",
    "# Finding a predictor\n",
    "# Is this small problem is to tell the algorithm what we mean by X and what we mean by Y\n",
    "# Now find us the slope\n",
    "# Our X from our our dataset is:\n",
    "X = adv_df[['TV', 'Radio', 'Newspaper']]"
   ]
  },
  {
   "cell_type": "code",
   "execution_count": 18,
   "metadata": {
    "colab": {
     "base_uri": "https://localhost:8080/",
     "height": 206
    },
    "executionInfo": {
     "elapsed": 4,
     "status": "ok",
     "timestamp": 1698101583717,
     "user": {
      "displayName": "Genghis Lopez",
      "userId": "12335099508766339007"
     },
     "user_tz": 240
    },
    "id": "gpB3gvvXvYs1",
    "outputId": "dd00c7e6-4e35-4f58-ffa6-cb8b812a1b2c"
   },
   "outputs": [
    {
     "data": {
      "text/html": [
       "<div>\n",
       "<style scoped>\n",
       "    .dataframe tbody tr th:only-of-type {\n",
       "        vertical-align: middle;\n",
       "    }\n",
       "\n",
       "    .dataframe tbody tr th {\n",
       "        vertical-align: top;\n",
       "    }\n",
       "\n",
       "    .dataframe thead th {\n",
       "        text-align: right;\n",
       "    }\n",
       "</style>\n",
       "<table border=\"1\" class=\"dataframe\">\n",
       "  <thead>\n",
       "    <tr style=\"text-align: right;\">\n",
       "      <th></th>\n",
       "      <th>TV</th>\n",
       "      <th>Radio</th>\n",
       "      <th>Newspaper</th>\n",
       "    </tr>\n",
       "  </thead>\n",
       "  <tbody>\n",
       "    <tr>\n",
       "      <th>0</th>\n",
       "      <td>230.1</td>\n",
       "      <td>37.8</td>\n",
       "      <td>69.2</td>\n",
       "    </tr>\n",
       "    <tr>\n",
       "      <th>1</th>\n",
       "      <td>44.5</td>\n",
       "      <td>39.3</td>\n",
       "      <td>45.1</td>\n",
       "    </tr>\n",
       "    <tr>\n",
       "      <th>2</th>\n",
       "      <td>17.2</td>\n",
       "      <td>45.9</td>\n",
       "      <td>69.3</td>\n",
       "    </tr>\n",
       "    <tr>\n",
       "      <th>3</th>\n",
       "      <td>151.5</td>\n",
       "      <td>41.3</td>\n",
       "      <td>58.5</td>\n",
       "    </tr>\n",
       "    <tr>\n",
       "      <th>4</th>\n",
       "      <td>180.8</td>\n",
       "      <td>10.8</td>\n",
       "      <td>58.4</td>\n",
       "    </tr>\n",
       "  </tbody>\n",
       "</table>\n",
       "</div>"
      ],
      "text/plain": [
       "      TV  Radio  Newspaper\n",
       "0  230.1   37.8       69.2\n",
       "1   44.5   39.3       45.1\n",
       "2   17.2   45.9       69.3\n",
       "3  151.5   41.3       58.5\n",
       "4  180.8   10.8       58.4"
      ]
     },
     "execution_count": 18,
     "metadata": {},
     "output_type": "execute_result"
    }
   ],
   "source": [
    "X.head()"
   ]
  },
  {
   "cell_type": "code",
   "execution_count": 19,
   "metadata": {
    "id": "Y37Bg-L5vYpp"
   },
   "outputs": [],
   "source": [
    "y = adv_df['Sales']"
   ]
  },
  {
   "cell_type": "code",
   "execution_count": 20,
   "metadata": {
    "colab": {
     "base_uri": "https://localhost:8080/"
    },
    "executionInfo": {
     "elapsed": 197,
     "status": "ok",
     "timestamp": 1698101611580,
     "user": {
      "displayName": "Genghis Lopez",
      "userId": "12335099508766339007"
     },
     "user_tz": 240
    },
    "id": "fgqV13fCvYmf",
    "outputId": "07ee6cff-50b4-47eb-a681-97c1093822cd"
   },
   "outputs": [
    {
     "data": {
      "text/plain": [
       "0    22.1\n",
       "1    10.4\n",
       "2     9.3\n",
       "3    18.5\n",
       "4    12.9\n",
       "Name: Sales, dtype: float64"
      ]
     },
     "execution_count": 20,
     "metadata": {},
     "output_type": "execute_result"
    }
   ],
   "source": [
    "y.head()"
   ]
  },
  {
   "cell_type": "code",
   "execution_count": 21,
   "metadata": {
    "colab": {
     "base_uri": "https://localhost:8080/"
    },
    "executionInfo": {
     "elapsed": 330,
     "status": "ok",
     "timestamp": 1698101636354,
     "user": {
      "displayName": "Genghis Lopez",
      "userId": "12335099508766339007"
     },
     "user_tz": 240
    },
    "id": "OW8uu3qtvmsI",
    "outputId": "1ddb04a0-9c2c-4eb3-9c77-5254331dc80b"
   },
   "outputs": [
    {
     "data": {
      "text/plain": [
       "(200, 3)"
      ]
     },
     "execution_count": 21,
     "metadata": {},
     "output_type": "execute_result"
    }
   ],
   "source": [
    "# EDA on the new vectors or matrixes \n",
    "X.shape"
   ]
  },
  {
   "cell_type": "code",
   "execution_count": 22,
   "metadata": {
    "colab": {
     "base_uri": "https://localhost:8080/"
    },
    "executionInfo": {
     "elapsed": 236,
     "status": "ok",
     "timestamp": 1698101650924,
     "user": {
      "displayName": "Genghis Lopez",
      "userId": "12335099508766339007"
     },
     "user_tz": 240
    },
    "id": "gvmUsBgDvr71",
    "outputId": "069cfa57-d534-4963-f498-2d87708ee812"
   },
   "outputs": [
    {
     "data": {
      "text/plain": [
       "(200,)"
      ]
     },
     "execution_count": 22,
     "metadata": {},
     "output_type": "execute_result"
    }
   ],
   "source": [
    "y.shape"
   ]
  },
  {
   "cell_type": "code",
   "execution_count": 23,
   "metadata": {
    "id": "m0eGWML_vr4t"
   },
   "outputs": [],
   "source": [
    "# Scikit-learn\n",
    "# used to import the train_test_split function from the model_selection module of Scikit-learn\n",
    "# This function train_test_split is frequently used to split datasets into random train and test subsets. It's a critical step in machine learning pipelines, enabling practitioners to create separate sets for training and evaluating models. This helps in assessing the model's performance on unseen data.\n",
    "\"\"\"\n",
    "Training or fitting a ML mean the same thing\n",
    "The name of the method is calling fitting fit()\n",
    "When we want to train a ML model\n",
    "\"\"\"\n",
    "# This library does the splitting\n",
    "from sklearn.model_selection import train_test_split"
   ]
  },
  {
   "cell_type": "code",
   "execution_count": 24,
   "metadata": {
    "id": "M-XyhBTGvr1e"
   },
   "outputs": [],
   "source": [
    "# splitting the dataset intro train and test sets\n",
    "# X: Represents the features or input data.\n",
    "# y: Represents the target variable or output data corresponding to the features.\n",
    "# When calling train_test_split(X, y), the function randomly splits the X and y datasets into training and testing sets. \n",
    "# However, the proportions for the split (e.g., the sizes of the training and testing sets) aren't explicitly specified in this case. \n",
    "# By default, train_test_split will divide the data into 75% training and 25% testing sets.\n",
    "\"\"\"\n",
    "The function returns four subsets:\n",
    "\n",
    "x_train: Contains the training features.\n",
    "x_test: Contains the test features.\n",
    "y_train: Contains the target variable for the training data.\n",
    "y_test: Contains the target variable for the test data.\n",
    "\n",
    "These subsets can be used for training a machine learning model \n",
    "on the training data (x_train and y_train) and evaluating its\n",
    "performance on the test data (x_test and y_test).\n",
    "If you need to specify the ratio for the split or set a random \n",
    "state for reproducibility, you can use additional parameters\n",
    "like test_size or random_state within the train_test_split function.\n",
    "\"\"\"\n",
    "# More often than not this is how you are going to split the data\n",
    "# In this case it is simple because we already have the X and Y\n",
    "# but that will not be the case all the time\n",
    "# Splits data into 4 quadrants\n",
    "# Then the machine learning algorithm can do what we want it to do \n",
    "x_train, x_test, y_train, y_test = train_test_split(X,y)"
   ]
  },
  {
   "cell_type": "code",
   "execution_count": 25,
   "metadata": {
    "colab": {
     "base_uri": "https://localhost:8080/"
    },
    "executionInfo": {
     "elapsed": 156,
     "status": "ok",
     "timestamp": 1698101963486,
     "user": {
      "displayName": "Genghis Lopez",
      "userId": "12335099508766339007"
     },
     "user_tz": 240
    },
    "id": "W_iw3n3xw1Wz",
    "outputId": "74bdba83-722c-4413-c6cc-7949f79ccf6f"
   },
   "outputs": [
    {
     "name": "stdout",
     "output_type": "stream",
     "text": [
      "(150, 3)\n",
      "(50, 3)\n",
      "(150,)\n",
      "(50,)\n"
     ]
    }
   ],
   "source": [
    "# Shape of the results of the splitting\n",
    "# Didnt tell the split method to be split a certain way, it did automatically\n",
    "# Later on we are going to tell the split method how we want to split it\n",
    "# i.e., 20% testing 80% training\n",
    "# Differentatiing between 2 of the major of ML overfitting and underfitting\n",
    "print(x_train.shape)\n",
    "print(x_test.shape)\n",
    "print(y_train.shape)\n",
    "print(y_test.shape)"
   ]
  },
  {
   "cell_type": "markdown",
   "metadata": {
    "id": "CCJo3OYWm9oQ"
   },
   "source": [
    "#Task 9: Choose the ML Method to follow"
   ]
  },
  {
   "cell_type": "code",
   "execution_count": 26,
   "metadata": {
    "id": "7UJWBSspm9lM"
   },
   "outputs": [],
   "source": [
    "# Bring the ML we want to do from sklearn library\n",
    "# Use scikit-learn.org as reference for the different type of models\n",
    "from sklearn.linear_model import LinearRegression"
   ]
  },
  {
   "cell_type": "code",
   "execution_count": 27,
   "metadata": {
    "id": "QDjNVIWmwpdz"
   },
   "outputs": [],
   "source": [
    "# We import the class now we need to create a new variable and assign to the libary\n",
    "# We brought in so now we can use it \n",
    "linReg = LinearRegression()"
   ]
  },
  {
   "cell_type": "markdown",
   "metadata": {
    "id": "Dmo0wF-vnXzD"
   },
   "source": [
    "#Task 10: Train the ML Model"
   ]
  },
  {
   "cell_type": "code",
   "execution_count": 28,
   "metadata": {
    "colab": {
     "base_uri": "https://localhost:8080/",
     "height": 74
    },
    "executionInfo": {
     "elapsed": 131,
     "status": "ok",
     "timestamp": 1698102059485,
     "user": {
      "displayName": "Genghis Lopez",
      "userId": "12335099508766339007"
     },
     "user_tz": 240
    },
    "id": "AUVPWfp9nXvl",
    "outputId": "5bd006d5-5b26-49b9-9a09-4d79b91d4be1"
   },
   "outputs": [
    {
     "data": {
      "text/plain": [
       "LinearRegression()"
      ]
     },
     "execution_count": 28,
     "metadata": {},
     "output_type": "execute_result"
    }
   ],
   "source": [
    "# To train a ML algorithm simple call the algorthm(the variable we created) and fit it\n",
    "# Fit it with the training data \n",
    "linReg.fit(x_train, y_train)"
   ]
  },
  {
   "cell_type": "code",
   "execution_count": 29,
   "metadata": {
    "colab": {
     "base_uri": "https://localhost:8080/"
    },
    "executionInfo": {
     "elapsed": 173,
     "status": "ok",
     "timestamp": 1698102092369,
     "user": {
      "displayName": "Genghis Lopez",
      "userId": "12335099508766339007"
     },
     "user_tz": 240
    },
    "id": "A-M_LiSWxLfJ",
    "outputId": "ff9139f6-7205-4442-ac83-7b0c09e6e634"
   },
   "outputs": [
    {
     "name": "stdout",
     "output_type": "stream",
     "text": [
      "2.704627669655867\n"
     ]
    }
   ],
   "source": [
    "# In this case the algorithm simply found the slope\n",
    "# Print out the intercept\n",
    "# Y = a + Bx\n",
    "print(linReg.intercept_)"
   ]
  },
  {
   "cell_type": "markdown",
   "metadata": {
    "id": "RYSfWcCcnXsb"
   },
   "source": [
    "#Task 11: Test the Model"
   ]
  },
  {
   "cell_type": "markdown",
   "metadata": {
    "id": "ssX8vUw8nXov"
   },
   "source": [
    "###Making predictions"
   ]
  },
  {
   "cell_type": "code",
   "execution_count": 30,
   "metadata": {
    "id": "2ZDwzmMvnXmA"
   },
   "outputs": [],
   "source": [
    "# In order to predcit with need to use our algorthm and ask her what can you tell me\n",
    "# with a specific set of data which in this case is the x_test data\n",
    "y_pred = linReg.predict(x_test)"
   ]
  },
  {
   "cell_type": "code",
   "execution_count": 31,
   "metadata": {
    "colab": {
     "base_uri": "https://localhost:8080/"
    },
    "executionInfo": {
     "elapsed": 162,
     "status": "ok",
     "timestamp": 1698102246946,
     "user": {
      "displayName": "Genghis Lopez",
      "userId": "12335099508766339007"
     },
     "user_tz": 240
    },
    "id": "Wl3OIda8nXi6",
    "outputId": "485bfe12-b69c-4b50-9abd-41e90430a88c"
   },
   "outputs": [
    {
     "data": {
      "text/plain": [
       "array([ 8.22717479,  4.37645181, 16.86615799, 19.95917797,  9.7866052 ,\n",
       "       13.50982628, 22.02426796, 10.49126374, 13.30098375, 23.87210281,\n",
       "        5.07495619, 15.65647518,  7.24198526,  7.62910362, 10.15845897,\n",
       "       11.88018012, 20.99867484, 16.32721743, 16.22808663, 12.51076633,\n",
       "        5.6265922 ,  7.84871453, 16.32733891,  4.34785678, 12.64061692,\n",
       "       16.74974214, 18.15106234, 23.21613492,  6.44447351,  9.58921734,\n",
       "        8.82232275, 11.83416021, 13.92666341, 20.95146723, 10.57790391,\n",
       "        8.72413487,  9.85929133, 12.64080643, 14.37019083, 12.34268762,\n",
       "        9.14597244, 17.9314495 , 13.56088126, 15.34855278, 17.14185817,\n",
       "       20.12139321, 16.99443969, 21.66802339, 19.8830076 , 19.33346562])"
      ]
     },
     "execution_count": 31,
     "metadata": {},
     "output_type": "execute_result"
    }
   ],
   "source": [
    "# To see the values it came up with given the data\n",
    "# What does this mean?\n",
    "y_pred"
   ]
  },
  {
   "cell_type": "code",
   "execution_count": 32,
   "metadata": {
    "colab": {
     "base_uri": "https://localhost:8080/",
     "height": 206
    },
    "executionInfo": {
     "elapsed": 136,
     "status": "ok",
     "timestamp": 1698102278735,
     "user": {
      "displayName": "Genghis Lopez",
      "userId": "12335099508766339007"
     },
     "user_tz": 240
    },
    "id": "nZ3uIMaFnXfr",
    "outputId": "51d3fba4-57e0-4b47-e521-be3d8006c4a4"
   },
   "outputs": [
    {
     "data": {
      "text/html": [
       "<div>\n",
       "<style scoped>\n",
       "    .dataframe tbody tr th:only-of-type {\n",
       "        vertical-align: middle;\n",
       "    }\n",
       "\n",
       "    .dataframe tbody tr th {\n",
       "        vertical-align: top;\n",
       "    }\n",
       "\n",
       "    .dataframe thead th {\n",
       "        text-align: right;\n",
       "    }\n",
       "</style>\n",
       "<table border=\"1\" class=\"dataframe\">\n",
       "  <thead>\n",
       "    <tr style=\"text-align: right;\">\n",
       "      <th></th>\n",
       "      <th>TV</th>\n",
       "      <th>Radio</th>\n",
       "      <th>Newspaper</th>\n",
       "      <th>Sales</th>\n",
       "    </tr>\n",
       "  </thead>\n",
       "  <tbody>\n",
       "    <tr>\n",
       "      <th>0</th>\n",
       "      <td>230.1</td>\n",
       "      <td>37.8</td>\n",
       "      <td>69.2</td>\n",
       "      <td>22.1</td>\n",
       "    </tr>\n",
       "    <tr>\n",
       "      <th>1</th>\n",
       "      <td>44.5</td>\n",
       "      <td>39.3</td>\n",
       "      <td>45.1</td>\n",
       "      <td>10.4</td>\n",
       "    </tr>\n",
       "    <tr>\n",
       "      <th>2</th>\n",
       "      <td>17.2</td>\n",
       "      <td>45.9</td>\n",
       "      <td>69.3</td>\n",
       "      <td>9.3</td>\n",
       "    </tr>\n",
       "    <tr>\n",
       "      <th>3</th>\n",
       "      <td>151.5</td>\n",
       "      <td>41.3</td>\n",
       "      <td>58.5</td>\n",
       "      <td>18.5</td>\n",
       "    </tr>\n",
       "    <tr>\n",
       "      <th>4</th>\n",
       "      <td>180.8</td>\n",
       "      <td>10.8</td>\n",
       "      <td>58.4</td>\n",
       "      <td>12.9</td>\n",
       "    </tr>\n",
       "  </tbody>\n",
       "</table>\n",
       "</div>"
      ],
      "text/plain": [
       "      TV  Radio  Newspaper  Sales\n",
       "0  230.1   37.8       69.2   22.1\n",
       "1   44.5   39.3       45.1   10.4\n",
       "2   17.2   45.9       69.3    9.3\n",
       "3  151.5   41.3       58.5   18.5\n",
       "4  180.8   10.8       58.4   12.9"
      ]
     },
     "execution_count": 32,
     "metadata": {},
     "output_type": "execute_result"
    }
   ],
   "source": [
    "adv_df.head()\n",
    "# if we look a row #2 this are the values that we were training\n",
    "# the algorithm took the line (except sales)\n",
    "# and found patterns that we used to determine the sales value"
   ]
  },
  {
   "cell_type": "code",
   "execution_count": null,
   "metadata": {
    "id": "ufa3Ch6inXcK"
   },
   "outputs": [],
   "source": [
    "# Only concern about the accuracy of the model "
   ]
  }
 ],
 "metadata": {
  "colab": {
   "collapsed_sections": [
    "ZSBjGiLtkL8Z",
    "SYOM7cJ_kiY1",
    "umeaYS-SkiGU",
    "OTaEVKXAkh-B",
    "6GZsnSiMkhpo",
    "HvFrMzIGmMOl",
    "nNu-6-3emMH5",
    "4k8nJyFemMBY"
   ],
   "provenance": [
    {
     "file_id": "1NPk_6SRWJdkIL0nq6KZcFd7mFHV-jKcR",
     "timestamp": 1698102858152
    },
    {
     "file_id": "1KjACfMQWZJa9Ov5ID-dd8ETxLLu1d7BF",
     "timestamp": 1698100644787
    }
   ]
  },
  "kernelspec": {
   "display_name": "Python 3 (ipykernel)",
   "language": "python",
   "name": "python3"
  },
  "language_info": {
   "codemirror_mode": {
    "name": "ipython",
    "version": 3
   },
   "file_extension": ".py",
   "mimetype": "text/x-python",
   "name": "python",
   "nbconvert_exporter": "python",
   "pygments_lexer": "ipython3",
   "version": "3.9.12"
  }
 },
 "nbformat": 4,
 "nbformat_minor": 1
}
