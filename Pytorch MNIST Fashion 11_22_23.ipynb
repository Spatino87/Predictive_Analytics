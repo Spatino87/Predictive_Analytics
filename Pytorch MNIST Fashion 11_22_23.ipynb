{
 "cells": [
  {
   "cell_type": "code",
   "execution_count": null,
   "metadata": {
    "id": "esDydToUT8zX"
   },
   "outputs": [],
   "source": [
    "import numpy as np\n",
    "import matplotlib.pyplot as plt\n",
    "from datetime import datetime\n",
    "\n",
    "import torch\n",
    "import torch.nn as nn\n",
    "import torchvision\n",
    "import torchvision.transforms as transforms\n",
    "from torchviz import make_dot\n",
    "import torchvision.models\n",
    "from torchsummary import summary\n",
    "\n",
    "from sklearn.metrics import confusion_matrix\n",
    "import itertools"
   ]
  },
  {
   "cell_type": "code",
   "execution_count": null,
   "metadata": {
    "colab": {
     "base_uri": "https://localhost:8080/"
    },
    "executionInfo": {
     "elapsed": 1255,
     "status": "ok",
     "timestamp": 1700696550725,
     "user": {
      "displayName": "Genghis Lopez",
      "userId": "12335099508766339007"
     },
     "user_tz": 300
    },
    "id": "P2cONBJRUFCL",
    "outputId": "e36bd10a-580e-4052-ac12-3f6ce4ec2597"
   },
   "outputs": [
    {
     "name": "stdout",
     "output_type": "stream",
     "text": [
      "Downloading http://fashion-mnist.s3-website.eu-central-1.amazonaws.com/train-images-idx3-ubyte.gz\n",
      "Downloading http://fashion-mnist.s3-website.eu-central-1.amazonaws.com/train-images-idx3-ubyte.gz to ./FashionMNIST/raw/train-images-idx3-ubyte.gz\n"
     ]
    },
    {
     "name": "stderr",
     "output_type": "stream",
     "text": [
      "100%|██████████| 26421880/26421880 [00:00<00:00, 116245529.63it/s]\n"
     ]
    },
    {
     "name": "stdout",
     "output_type": "stream",
     "text": [
      "Extracting ./FashionMNIST/raw/train-images-idx3-ubyte.gz to ./FashionMNIST/raw\n",
      "\n",
      "Downloading http://fashion-mnist.s3-website.eu-central-1.amazonaws.com/train-labels-idx1-ubyte.gz\n",
      "Downloading http://fashion-mnist.s3-website.eu-central-1.amazonaws.com/train-labels-idx1-ubyte.gz to ./FashionMNIST/raw/train-labels-idx1-ubyte.gz\n"
     ]
    },
    {
     "name": "stderr",
     "output_type": "stream",
     "text": [
      "100%|██████████| 29515/29515 [00:00<00:00, 7976988.37it/s]"
     ]
    },
    {
     "name": "stdout",
     "output_type": "stream",
     "text": [
      "Extracting ./FashionMNIST/raw/train-labels-idx1-ubyte.gz to ./FashionMNIST/raw\n",
      "\n",
      "Downloading http://fashion-mnist.s3-website.eu-central-1.amazonaws.com/t10k-images-idx3-ubyte.gz\n",
      "Downloading http://fashion-mnist.s3-website.eu-central-1.amazonaws.com/t10k-images-idx3-ubyte.gz to ./FashionMNIST/raw/t10k-images-idx3-ubyte.gz\n"
     ]
    },
    {
     "name": "stderr",
     "output_type": "stream",
     "text": [
      "\n",
      "100%|██████████| 4422102/4422102 [00:00<00:00, 60922193.96it/s]\n"
     ]
    },
    {
     "name": "stdout",
     "output_type": "stream",
     "text": [
      "Extracting ./FashionMNIST/raw/t10k-images-idx3-ubyte.gz to ./FashionMNIST/raw\n",
      "\n",
      "Downloading http://fashion-mnist.s3-website.eu-central-1.amazonaws.com/t10k-labels-idx1-ubyte.gz\n",
      "Downloading http://fashion-mnist.s3-website.eu-central-1.amazonaws.com/t10k-labels-idx1-ubyte.gz to ./FashionMNIST/raw/t10k-labels-idx1-ubyte.gz\n"
     ]
    },
    {
     "name": "stderr",
     "output_type": "stream",
     "text": [
      "100%|██████████| 5148/5148 [00:00<00:00, 22848970.36it/s]\n"
     ]
    },
    {
     "name": "stdout",
     "output_type": "stream",
     "text": [
      "Extracting ./FashionMNIST/raw/t10k-labels-idx1-ubyte.gz to ./FashionMNIST/raw\n",
      "\n"
     ]
    }
   ],
   "source": [
    "train_dataset = torchvision.datasets.FashionMNIST(\n",
    "    root = '.',\n",
    "    train = True,\n",
    "    transform = transforms.ToTensor(),\n",
    "    download = True\n",
    ")"
   ]
  },
  {
   "cell_type": "code",
   "execution_count": null,
   "metadata": {
    "colab": {
     "base_uri": "https://localhost:8080/"
    },
    "executionInfo": {
     "elapsed": 3,
     "status": "ok",
     "timestamp": 1700696550726,
     "user": {
      "displayName": "Genghis Lopez",
      "userId": "12335099508766339007"
     },
     "user_tz": 300
    },
    "id": "Tr669UXCU4mD",
    "outputId": "b7c268ca-8875-4f3a-8c1e-7e3a57ef30a1"
   },
   "outputs": [
    {
     "data": {
      "text/plain": [
       "tensor(255, dtype=torch.uint8)"
      ]
     },
     "execution_count": 3,
     "metadata": {},
     "output_type": "execute_result"
    }
   ],
   "source": [
    "train_dataset.data.max()"
   ]
  },
  {
   "cell_type": "code",
   "execution_count": null,
   "metadata": {
    "colab": {
     "base_uri": "https://localhost:8080/"
    },
    "executionInfo": {
     "elapsed": 233,
     "status": "ok",
     "timestamp": 1700696550957,
     "user": {
      "displayName": "Genghis Lopez",
      "userId": "12335099508766339007"
     },
     "user_tz": 300
    },
    "id": "u47icpz_U82C",
    "outputId": "f5880a39-d045-4c5f-db52-89c82b6a0c54"
   },
   "outputs": [
    {
     "data": {
      "text/plain": [
       "torch.Size([60000, 28, 28])"
      ]
     },
     "execution_count": 4,
     "metadata": {},
     "output_type": "execute_result"
    }
   ],
   "source": [
    "train_dataset.data.shape"
   ]
  },
  {
   "cell_type": "code",
   "execution_count": null,
   "metadata": {
    "colab": {
     "base_uri": "https://localhost:8080/"
    },
    "executionInfo": {
     "elapsed": 4,
     "status": "ok",
     "timestamp": 1700696550957,
     "user": {
      "displayName": "Genghis Lopez",
      "userId": "12335099508766339007"
     },
     "user_tz": 300
    },
    "id": "vE4k2ZqdVBV7",
    "outputId": "0b36ef94-8f1b-4025-979e-aa8112709e59"
   },
   "outputs": [
    {
     "data": {
      "text/plain": [
       "tensor([9, 0, 0,  ..., 3, 0, 5])"
      ]
     },
     "execution_count": 5,
     "metadata": {},
     "output_type": "execute_result"
    }
   ],
   "source": [
    "train_dataset.targets"
   ]
  },
  {
   "cell_type": "code",
   "execution_count": null,
   "metadata": {
    "id": "vfBZLvQnVGk6"
   },
   "outputs": [],
   "source": [
    "test_dataset = torchvision.datasets.FashionMNIST(\n",
    "    root = '.',\n",
    "    train = False,\n",
    "    transform = transforms.ToTensor(),\n",
    "    download = True\n",
    ")"
   ]
  },
  {
   "cell_type": "code",
   "execution_count": null,
   "metadata": {
    "colab": {
     "base_uri": "https://localhost:8080/"
    },
    "executionInfo": {
     "elapsed": 4,
     "status": "ok",
     "timestamp": 1700696550958,
     "user": {
      "displayName": "Genghis Lopez",
      "userId": "12335099508766339007"
     },
     "user_tz": 300
    },
    "id": "5YWjrgxZVK3T",
    "outputId": "b990833f-c764-43a9-ead2-e612ede7caf4"
   },
   "outputs": [
    {
     "name": "stdout",
     "output_type": "stream",
     "text": [
      "Number of classes: 10\n"
     ]
    }
   ],
   "source": [
    "# Number of Classes\n",
    "k = len(set(train_dataset.targets.numpy()))\n",
    "print(f'Number of classes: {k}')"
   ]
  },
  {
   "cell_type": "code",
   "execution_count": null,
   "metadata": {
    "id": "sgN1LuV1Vs7r"
   },
   "outputs": [],
   "source": [
    "# Defining the model\n",
    "\n",
    "class CNN(nn.Module):\n",
    "    def __init__(self, k):\n",
    "        super(CNN, self).__init__()\n",
    "        self.conv_layers = nn.Sequential(\n",
    "            nn.Conv2d(in_channels = 1, out_channels = 32, kernel_size = 3, stride = 2),\n",
    "            nn.ReLU(),\n",
    "            nn.Conv2d(in_channels = 32, out_channels = 64, kernel_size = 3, stride = 2),\n",
    "            nn.ReLU(),\n",
    "            nn.Conv2d(in_channels = 64, out_channels = 128, kernel_size = 3, stride = 2),\n",
    "            nn.ReLU(),\n",
    "        )\n",
    "\n",
    "        self.dense_layers = nn.Sequential(\n",
    "            nn.Dropout(0.2),\n",
    "            nn.Linear(128 * 2 * 2, 512),\n",
    "            nn.ReLU(),\n",
    "            nn.Dropout(0.2),\n",
    "            nn.Linear(512, k)\n",
    "        )\n",
    "\n",
    "    def forward(self, X):\n",
    "        out = self.conv_layers(X)\n",
    "        out = out.view(out.size(0), -1)\n",
    "        out = self.dense_layers(out)\n",
    "        return out"
   ]
  },
  {
   "cell_type": "code",
   "execution_count": null,
   "metadata": {
    "id": "r_ubbudaXUm8"
   },
   "outputs": [],
   "source": [
    "# Instantiating the model\n",
    "model = CNN(k)"
   ]
  },
  {
   "cell_type": "code",
   "execution_count": null,
   "metadata": {
    "colab": {
     "base_uri": "https://localhost:8080/"
    },
    "executionInfo": {
     "elapsed": 5853,
     "status": "ok",
     "timestamp": 1700696556808,
     "user": {
      "displayName": "Genghis Lopez",
      "userId": "12335099508766339007"
     },
     "user_tz": 300
    },
    "id": "s9qTg_BPXWUa",
    "outputId": "7f6428d2-d7c9-4525-e89c-ffc8455d8efe"
   },
   "outputs": [
    {
     "name": "stdout",
     "output_type": "stream",
     "text": [
      "cuda:0\n"
     ]
    },
    {
     "data": {
      "text/plain": [
       "CNN(\n",
       "  (conv_layers): Sequential(\n",
       "    (0): Conv2d(1, 32, kernel_size=(3, 3), stride=(2, 2))\n",
       "    (1): ReLU()\n",
       "    (2): Conv2d(32, 64, kernel_size=(3, 3), stride=(2, 2))\n",
       "    (3): ReLU()\n",
       "    (4): Conv2d(64, 128, kernel_size=(3, 3), stride=(2, 2))\n",
       "    (5): ReLU()\n",
       "  )\n",
       "  (dense_layers): Sequential(\n",
       "    (0): Dropout(p=0.2, inplace=False)\n",
       "    (1): Linear(in_features=512, out_features=512, bias=True)\n",
       "    (2): ReLU()\n",
       "    (3): Dropout(p=0.2, inplace=False)\n",
       "    (4): Linear(in_features=512, out_features=10, bias=True)\n",
       "  )\n",
       ")"
      ]
     },
     "execution_count": 10,
     "metadata": {},
     "output_type": "execute_result"
    }
   ],
   "source": [
    "device = torch.device('cuda:0' if torch.cuda.is_available() else 'cpu')\n",
    "print(device)\n",
    "model.to(device)"
   ]
  },
  {
   "cell_type": "code",
   "execution_count": null,
   "metadata": {
    "id": "LzIrm6vcXroo"
   },
   "outputs": [],
   "source": [
    "# Defining Loss and Optimizer\n",
    "criterion = nn.CrossEntropyLoss()\n",
    "optimizer = torch.optim.Adam(model.parameters())"
   ]
  },
  {
   "cell_type": "code",
   "execution_count": null,
   "metadata": {
    "id": "02qVrOC4X4yv"
   },
   "outputs": [],
   "source": [
    "# Creating a data loader\n",
    "# This is usefull because it will automatically generate batches in the training loop and it takes care of shuffling\n",
    "\n",
    "batchsize = 128\n",
    "train_loader = torch.utils.data.DataLoader(dataset = train_dataset, batch_size = batchsize, shuffle = True)\n",
    "test_loader = torch.utils.data.DataLoader(dataset = test_dataset, batch_size = batchsize, shuffle = False)"
   ]
  },
  {
   "cell_type": "code",
   "execution_count": null,
   "metadata": {
    "id": "UrJUlls3Yrz3"
   },
   "outputs": [],
   "source": [
    "# Creating a function to encapsulate the training loop\n",
    "def batch_gd(model, criterion, optimizer, train_loader, test_loader, epochs):\n",
    "    train_losses = np.zeros(epochs)\n",
    "    test_losses = np.zeros(epochs)\n",
    "\n",
    "    for it in range(epochs):\n",
    "        t0 = datetime.now()\n",
    "        train_loss = []\n",
    "        for inputs, targets in train_loader:\n",
    "            # Move data to GPU\n",
    "            inputs, targets = inputs.to(device), targets.to(device)\n",
    "\n",
    "            # Zero the parameters gradients\n",
    "            optimizer.zero_grad()\n",
    "\n",
    "            # Forward pass\n",
    "            outputs = model(inputs)\n",
    "            loss = criterion(outputs, targets)\n",
    "\n",
    "            # Backward pass and optimize\n",
    "            loss.backward()\n",
    "            optimizer.step()\n",
    "\n",
    "            train_loss.append(loss.item())\n",
    "\n",
    "        # Get the train loss and test loss\n",
    "        train_loss = np.mean(train_loss) # This is a little misleading\n",
    "\n",
    "        test_loss = []\n",
    "        for inputs, targets in test_loader:\n",
    "            inputs, targets = inputs.to(device), targets.to(device)\n",
    "            outputs = model(inputs)\n",
    "            loss = criterion(outputs, targets)\n",
    "            test_loss.append(loss.item())\n",
    "\n",
    "        test_loss = np.mean(test_loss)\n",
    "\n",
    "        # Saving the losses\n",
    "        train_losses[it] = train_loss\n",
    "        test_losses[it] = test_loss\n",
    "\n",
    "        dt = datetime.now() - t0\n",
    "        print(f'Epoch {it + 1}/{epochs}, Train Loss: {train_loss:.4f}, Test Loss: {test_loss:.4f}, Duration: {dt}')\n",
    "\n",
    "    return train_losses, test_losses"
   ]
  },
  {
   "cell_type": "code",
   "execution_count": null,
   "metadata": {
    "colab": {
     "base_uri": "https://localhost:8080/"
    },
    "executionInfo": {
     "elapsed": 194933,
     "status": "ok",
     "timestamp": 1700696761361,
     "user": {
      "displayName": "Genghis Lopez",
      "userId": "12335099508766339007"
     },
     "user_tz": 300
    },
    "id": "UiNetzkMZ0Hl",
    "outputId": "ddffc6a7-ed9e-4fe1-b7e3-ee160011a7c5"
   },
   "outputs": [
    {
     "name": "stdout",
     "output_type": "stream",
     "text": [
      "Epoch 1/20, Train Loss: 0.6580, Test Loss: 0.4822, Duration: 0:00:16.350444\n",
      "Epoch 2/20, Train Loss: 0.4237, Test Loss: 0.4158, Duration: 0:00:09.368639\n",
      "Epoch 3/20, Train Loss: 0.3601, Test Loss: 0.3695, Duration: 0:00:09.707417\n",
      "Epoch 4/20, Train Loss: 0.3265, Test Loss: 0.3467, Duration: 0:00:08.758994\n",
      "Epoch 5/20, Train Loss: 0.2991, Test Loss: 0.3438, Duration: 0:00:09.464044\n",
      "Epoch 6/20, Train Loss: 0.2737, Test Loss: 0.3118, Duration: 0:00:10.050445\n",
      "Epoch 7/20, Train Loss: 0.2563, Test Loss: 0.3304, Duration: 0:00:09.184951\n",
      "Epoch 8/20, Train Loss: 0.2387, Test Loss: 0.3058, Duration: 0:00:08.927080\n",
      "Epoch 9/20, Train Loss: 0.2271, Test Loss: 0.3007, Duration: 0:00:09.640261\n",
      "Epoch 10/20, Train Loss: 0.2095, Test Loss: 0.3090, Duration: 0:00:09.277873\n",
      "Epoch 11/20, Train Loss: 0.2013, Test Loss: 0.2998, Duration: 0:00:08.808623\n",
      "Epoch 12/20, Train Loss: 0.1846, Test Loss: 0.3100, Duration: 0:00:09.673459\n",
      "Epoch 13/20, Train Loss: 0.1729, Test Loss: 0.3069, Duration: 0:00:09.373439\n",
      "Epoch 14/20, Train Loss: 0.1612, Test Loss: 0.3188, Duration: 0:00:08.728759\n",
      "Epoch 15/20, Train Loss: 0.1556, Test Loss: 0.3200, Duration: 0:00:09.631323\n",
      "Epoch 16/20, Train Loss: 0.1451, Test Loss: 0.3368, Duration: 0:00:09.580114\n",
      "Epoch 17/20, Train Loss: 0.1355, Test Loss: 0.3383, Duration: 0:00:08.561732\n",
      "Epoch 18/20, Train Loss: 0.1287, Test Loss: 0.3343, Duration: 0:00:09.683704\n",
      "Epoch 19/20, Train Loss: 0.1228, Test Loss: 0.3670, Duration: 0:00:09.796438\n",
      "Epoch 20/20, Train Loss: 0.1130, Test Loss: 0.3625, Duration: 0:00:10.151369\n"
     ]
    }
   ],
   "source": [
    "train_losses, test_losses = batch_gd(model, criterion, optimizer, train_loader, test_loader, epochs = 20)"
   ]
  },
  {
   "cell_type": "code",
   "execution_count": null,
   "metadata": {
    "id": "zfBvEAXEZ-c4"
   },
   "outputs": [],
   "source": [
    "# torch.onnx.export(model, )"
   ]
  },
  {
   "cell_type": "code",
   "execution_count": null,
   "metadata": {
    "colab": {
     "base_uri": "https://localhost:8080/",
     "height": 430
    },
    "executionInfo": {
     "elapsed": 498,
     "status": "ok",
     "timestamp": 1700696932872,
     "user": {
      "displayName": "Genghis Lopez",
      "userId": "12335099508766339007"
     },
     "user_tz": 300
    },
    "id": "w0jenIE5bhUj",
    "outputId": "a866a32c-7766-487f-a22f-83b0d76efd4b"
   },
   "outputs": [
    {
     "data": {
      "image/png": "[encoded data removed]",
      "text/plain": [
       "<Figure size 640x480 with 1 Axes>"
      ]
     },
     "metadata": {},
     "output_type": "display_data"
    }
   ],
   "source": [
    "# Plotting the train and loss as weall as the test and loss per iteration\n",
    "plt.plot(train_losses, label = 'train loss')\n",
    "plt.plot(test_losses, label = 'test loss')\n",
    "plt.legend()\n",
    "plt.show()"
   ]
  },
  {
   "cell_type": "code",
   "execution_count": null,
   "metadata": {
    "colab": {
     "base_uri": "https://localhost:8080/"
    },
    "executionInfo": {
     "elapsed": 17694,
     "status": "ok",
     "timestamp": 1700697179327,
     "user": {
      "displayName": "Genghis Lopez",
      "userId": "12335099508766339007"
     },
     "user_tz": 300
    },
    "id": "TuPdhxRTb77b",
    "outputId": "06fee555-661e-48fc-da83-742e5d60f738"
   },
   "outputs": [
    {
     "name": "stdout",
     "output_type": "stream",
     "text": [
      "Train Accuracy: 0.9623, Test Accuracy: 0.9633\n"
     ]
    }
   ],
   "source": [
    "# Getting the Accuracy\n",
    "\n",
    "n_correct = 0\n",
    "n_total = 0\n",
    "\n",
    "for inputs, targets in train_loader:\n",
    "    # Move data to GPU\n",
    "    inputs, targets = inputs.to(device), targets.to(device)\n",
    "\n",
    "    # Forward pass\n",
    "    outputs = model(inputs)\n",
    "\n",
    "    # Getting teh prediction\n",
    "    # torch.max returns both the max and the argmax\n",
    "    _, predictions = torch.max(outputs, 1)\n",
    "\n",
    "    # Updating the counts\n",
    "    n_correct += (predictions == targets).sum().item()\n",
    "    n_total += targets.shape[0]\n",
    "\n",
    "train_acc = n_correct / n_total\n",
    "\n",
    "n_correct = 0\n",
    "n_total = 0\n",
    "\n",
    "for inputs, targets in train_loader:\n",
    "    # Move data to GPU\n",
    "    inputs, targets = inputs.to(device), targets.to(device)\n",
    "\n",
    "    # Forward pass\n",
    "    outputs = model(inputs)\n",
    "\n",
    "    # Getting teh prediction\n",
    "    # torch.max returns both the max and the argmax\n",
    "    _, predictions = torch.max(outputs, 1)\n",
    "\n",
    "    # Updating the counts\n",
    "    n_correct += (predictions == targets).sum().item()\n",
    "    n_total += targets.shape[0]\n",
    "\n",
    "test_acc = n_correct / n_total\n",
    "\n",
    "print(f'Train Accuracy: {train_acc:.4f}, Test Accuracy: {test_acc:.4f}')"
   ]
  },
  {
   "cell_type": "code",
   "execution_count": null,
   "metadata": {
    "id": "ETRlJFBrdVgb"
   },
   "outputs": [],
   "source": [
    "from prompt_toolkit.layout.containers import HorizontalAlign\n",
    "# Creating a Confusion Matrix\n",
    "def plot_confucion_matrix(cm, classes, normalize = False, title = 'Confucion Matrix', cmap = plt.cm.Blues):\n",
    "    '''\n",
    "    This function plrint and plots teh confusion matrix.\n",
    "    Normalization can be applied by setting the parameter `normalize = True`\n",
    "    '''\n",
    "\n",
    "    if normalize:\n",
    "        cm = cm.astype('float') / cm.sum(axis = 1)[:, np.newaxis]\n",
    "        print('Normalized Confusion Matrix')\n",
    "\n",
    "    else:\n",
    "        print('Confusion Matrix without normalization')\n",
    "\n",
    "    print(cm)\n",
    "\n",
    "    plt.imshow(cm, interpolation = 'nearest', cmap = cmap)\n",
    "    plt.title(title)\n",
    "    plt.colorbar()\n",
    "    tick_marks = np.arange(len(classes))\n",
    "    plt.xticks(tick_marks, classes, rotation = 45)\n",
    "    plt.yticks(tick_marks, classes)\n",
    "\n",
    "    fmt = '.2f' if normalize else 'd'\n",
    "    tresh = cm.max() / 2\n",
    "    for i, j in itertools.product(range(cm.shape[0]), range(cm.shape[1])):\n",
    "        plt.text(j, i, format(cm[i, j], fmt), horizontalalignment = 'center',\n",
    "                 color = 'white' if cm[i, j] > tresh else 'black')\n",
    "\n",
    "    plt.tight_layout()\n",
    "    plt.ylabel('True Label')\n",
    "    plt.xlabel('Predicted Label')\n",
    "    plt.show()"
   ]
  },
  {
   "cell_type": "code",
   "execution_count": null,
   "metadata": {
    "colab": {
     "base_uri": "https://localhost:8080/",
     "height": 703
    },
    "executionInfo": {
     "elapsed": 3618,
     "status": "ok",
     "timestamp": 1700697323473,
     "user": {
      "displayName": "Genghis Lopez",
      "userId": "12335099508766339007"
     },
     "user_tz": 300
    },
    "id": "_0K-46N-dZpA",
    "outputId": "7975c9db-f098-44ae-c86b-2ae69fed7b09"
   },
   "outputs": [
    {
     "name": "stdout",
     "output_type": "stream",
     "text": [
      "Confusion Matrix without normalization\n",
      "[[864   3  28  19   3   1  75   0   7   0]\n",
      " [  4 974   2  14   4   0   1   0   1   0]\n",
      " [ 17   0 877  17  46   0  39   0   4   0]\n",
      " [ 19   3  16 906  31   1  22   0   0   2]\n",
      " [  2   0  65  22 850   0  56   0   5   0]\n",
      " [  1   0   0   2   1 972   0  16   1   7]\n",
      " [124   1  79  34 104   0 647   0  11   0]\n",
      " [  0   0   0   0   0  11   0 955   0  34]\n",
      " [  3   0   4   7   6   2   4   4 970   0]\n",
      " [  1   0   0   0   0   5   0  30   0 964]]\n"
     ]
    },
    {
     "data": {
      "image/png": "[encoded data removed]",
      "text/plain": [
       "<Figure size 640x480 with 2 Axes>"
      ]
     },
     "metadata": {},
     "output_type": "display_data"
    }
   ],
   "source": [
    "# Getting all predictions into an array and plotting the confusion matrix\n",
    "x_test = test_dataset.data.numpy()\n",
    "y_test = test_dataset.targets.numpy()\n",
    "p_test = np.array([])\n",
    "for inputs, targets in test_loader:\n",
    "    # Move data to GPU\n",
    "    inputs, targets = inputs.to(device), targets.to(device)\n",
    "\n",
    "    # Forward pass\n",
    "    outputs = model(inputs)\n",
    "\n",
    "    # Getting teh prediction\n",
    "    _, predictions = torch.max(outputs, 1)\n",
    "\n",
    "    # Updating p_test\n",
    "    p_test = np.concatenate((p_test, predictions.cpu().numpy()))\n",
    "\n",
    "cm = confusion_matrix(y_test, p_test)\n",
    "plot_confucion_matrix(cm, list(range(10)))"
   ]
  },
  {
   "cell_type": "code",
   "execution_count": null,
   "metadata": {
    "id": "C0uaLpOvcz3B"
   },
   "outputs": [],
   "source": [
    "# Creating a label map since the classes are listed as integers and thus makes the predictions hard to read\n",
    "labels = '''T-shirt/top\n",
    "Trouser\n",
    "Pullover\n",
    "Dress\n",
    "Coat\n",
    "Sandal\n",
    "Shirt\n",
    "Sneaker\n",
    "Bag\n",
    "Ankle boot\n",
    "'''.split('\\n')"
   ]
  },
  {
   "cell_type": "code",
   "execution_count": null,
   "metadata": {
    "colab": {
     "base_uri": "https://localhost:8080/",
     "height": 470
    },
    "executionInfo": {
     "elapsed": 507,
     "status": "ok",
     "timestamp": 1700697709579,
     "user": {
      "displayName": "Genghis Lopez",
      "userId": "12335099508766339007"
     },
     "user_tz": 300
    },
    "id": "fioENe76dMeV",
    "outputId": "d14157c4-9de0-4268-ae02-17d1023fbc07"
   },
   "outputs": [
    {
     "data": {
      "text/plain": [
       "Text(0.5, 1.0, 'True Label: Sandal Predicted: Sandal')"
      ]
     },
     "execution_count": 44,
     "metadata": {},
     "output_type": "execute_result"
    },
    {
     "data": {
      "image/png": "[encoded data removed]",
      "text/plain": [
       "<Figure size 640x480 with 1 Axes>"
      ]
     },
     "metadata": {},
     "output_type": "display_data"
    }
   ],
   "source": [
    "# Showing some classified examples\n",
    "p_test = p_test.astype(np.uint8)\n",
    "misclassified_idx = np.where(p_test == y_test)[0]\n",
    "i = np.random.choice(misclassified_idx)\n",
    "plt.imshow(x_test[i].reshape(28, 28), cmap = 'gray')\n",
    "plt.title('True Label: %s Predicted: %s' % (labels[y_test[i]], labels[p_test[i]]))"
   ]
  },
  {
   "cell_type": "code",
   "execution_count": null,
   "metadata": {
    "colab": {
     "base_uri": "https://localhost:8080/",
     "height": 470
    },
    "executionInfo": {
     "elapsed": 906,
     "status": "ok",
     "timestamp": 1700697687948,
     "user": {
      "displayName": "Genghis Lopez",
      "userId": "12335099508766339007"
     },
     "user_tz": 300
    },
    "id": "tYMMnkg3eBaS",
    "outputId": "102c2fc8-4339-42ae-e6bc-8cb854729ead"
   },
   "outputs": [
    {
     "data": {
      "text/plain": [
       "Text(0.5, 1.0, 'True Label: T-shirt/top Predicted: Pullover')"
      ]
     },
     "execution_count": 41,
     "metadata": {},
     "output_type": "execute_result"
    },
    {
     "data": {
      "image/png": "[encoded data removed]",
      "text/plain": [
       "<Figure size 640x480 with 1 Axes>"
      ]
     },
     "metadata": {},
     "output_type": "display_data"
    }
   ],
   "source": [
    "# Showing some misclassified examples\n",
    "p_test = p_test.astype(np.uint8)\n",
    "misclassified_idx = np.where(p_test != y_test)[0]\n",
    "i = np.random.choice(misclassified_idx)\n",
    "plt.imshow(x_test[i].reshape(28, 28), cmap = 'gray')\n",
    "plt.title('True Label: %s Predicted: %s' % (labels[y_test[i]], labels[p_test[i]]))"
   ]
  },
  {
   "cell_type": "code",
   "execution_count": null,
   "metadata": {
    "id": "xv1xzNTogqyt"
   },
   "outputs": [],
   "source": [
    "torch.save(model, \"mnist.h5\")"
   ]
  },
  {
   "cell_type": "code",
   "execution_count": null,
   "metadata": {
    "id": "sfdvQrRriQMk"
   },
   "outputs": [],
   "source": []
  }
 ],
 "metadata": {
  "accelerator": "GPU",
  "colab": {
   "gpuType": "V100",
   "provenance": [
    {
     "file_id": "1BujCgrf0vgdvhMrHDQAHCEDCgstmi5nM",
     "timestamp": 1700855248197
    }
   ]
  },
  "kernelspec": {
   "display_name": "Python 3 (ipykernel)",
   "language": "python",
   "name": "python3"
  },
  "language_info": {
   "codemirror_mode": {
    "name": "ipython",
    "version": 3
   },
   "file_extension": ".py",
   "mimetype": "text/x-python",
   "name": "python",
   "nbconvert_exporter": "python",
   "pygments_lexer": "ipython3",
   "version": "3.9.12"
  }
 },
 "nbformat": 4,
 "nbformat_minor": 1
}
