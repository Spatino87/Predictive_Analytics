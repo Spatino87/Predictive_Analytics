{
 "cells": [
  {
   "cell_type": "markdown",
   "metadata": {
    "id": "YBd0BFmhQiru"
   },
   "source": [
    "# Working with Text & Files"
   ]
  },
  {
   "cell_type": "markdown",
   "metadata": {
    "id": "5B2WvvMBUhLL"
   },
   "source": [
    "### Formatted String Literals (f-strings)"
   ]
  },
  {
   "cell_type": "code",
   "execution_count": null,
   "metadata": {
    "id": "YPg8EwaDUhHp"
   },
   "outputs": [],
   "source": [
    "name = 'John'"
   ]
  },
  {
   "cell_type": "code",
   "execution_count": null,
   "metadata": {
    "colab": {
     "base_uri": "https://localhost:8080/"
    },
    "executionInfo": {
     "elapsed": 153,
     "status": "ok",
     "timestamp": 1699487115076,
     "user": {
      "displayName": "Genghis Lopez",
      "userId": "12335099508766339007"
     },
     "user_tz": 300
    },
    "id": "PPI16w0LUhEf",
    "outputId": "55001e52-23c3-4226-850b-e04afb4b460b"
   },
   "outputs": [
    {
     "name": "stdout",
     "output_type": "stream",
     "text": [
      "His name is John.\n",
      "His name is John.\n"
     ]
    }
   ],
   "source": [
    "# Using the old .format() method:\n",
    "print('His name is {var}.'.format(var=name))\n",
    "\n",
    "# Using f-strings:\n",
    "print(f'His name is {name}.')"
   ]
  },
  {
   "cell_type": "code",
   "execution_count": null,
   "metadata": {
    "colab": {
     "base_uri": "https://localhost:8080/"
    },
    "executionInfo": {
     "elapsed": 131,
     "status": "ok",
     "timestamp": 1699487202763,
     "user": {
      "displayName": "Genghis Lopez",
      "userId": "12335099508766339007"
     },
     "user_tz": 300
    },
    "id": "2MPleNoXUhBE",
    "outputId": "ba471a3b-2d79-45bb-a8f7-a6b6a7529755"
   },
   "outputs": [
    {
     "name": "stdout",
     "output_type": "stream",
     "text": [
      "His name is 'John'\n"
     ]
    }
   ],
   "source": [
    "print(f'His name is {name!r}')"
   ]
  },
  {
   "cell_type": "code",
   "execution_count": null,
   "metadata": {
    "id": "Nnh0ElCLUg91"
   },
   "outputs": [],
   "source": [
    "d = {'a':123,'b':456}\n",
    "\n",
    "# you cannot due a single quote within a single quote\n",
    "# python will not know where to begin and where to end \n",
    "# print(f'Address: {d['a']} Main Street')"
   ]
  },
  {
   "cell_type": "code",
   "execution_count": null,
   "metadata": {
    "colab": {
     "base_uri": "https://localhost:8080/"
    },
    "executionInfo": {
     "elapsed": 126,
     "status": "ok",
     "timestamp": 1699487297341,
     "user": {
      "displayName": "Genghis Lopez",
      "userId": "12335099508766339007"
     },
     "user_tz": 300
    },
    "id": "mdG8yj6LUg6L",
    "outputId": "7a74e34e-f7fd-476a-bcdd-604915101542"
   },
   "outputs": [
    {
     "name": "stdout",
     "output_type": "stream",
     "text": [
      "Address: 123 Main Street\n"
     ]
    }
   ],
   "source": [
    "print(f\"Address: {d['a']} Main Street\")"
   ]
  },
  {
   "cell_type": "code",
   "execution_count": null,
   "metadata": {
    "colab": {
     "base_uri": "https://localhost:8080/"
    },
    "executionInfo": {
     "elapsed": 138,
     "status": "ok",
     "timestamp": 1699487402552,
     "user": {
      "displayName": "Genghis Lopez",
      "userId": "12335099508766339007"
     },
     "user_tz": 300
    },
    "id": "zHrJYxLBUg2x",
    "outputId": "25e77478-23d0-492a-eefb-60050bef234d"
   },
   "outputs": [
    {
     "name": "stdout",
     "output_type": "stream",
     "text": [
      "Author     Topic    Pages  \n",
      "Twain      Rafting      601\n",
      "Feynman    Physics       95\n",
      "Hamilton   Mythology     144\n"
     ]
    }
   ],
   "source": [
    "# List of tuples\n",
    "library = [('Author', 'Topic', 'Pages'), ('Twain', 'Rafting', 601), ('Feynman', 'Physics', 95), ('Hamilton', 'Mythology', 144)]\n",
    "\n",
    "# for every book in our library index\n",
    "# book becomes a placeholder for each step\n",
    "# since it is a tuple we can index\n",
    "# {10} = 10 spaces etc.\n",
    "for book in library:\n",
    "    print(f'{book[0]:{10}} {book[1]:{8}} {book[2]:{7}}')"
   ]
  },
  {
   "cell_type": "markdown",
   "metadata": {
    "id": "NFIJnJH7Ugzf"
   },
   "source": [
    "### Date Formatting"
   ]
  },
  {
   "cell_type": "code",
   "execution_count": 1,
   "metadata": {
    "id": "-w7r1zPhUgwX"
   },
   "outputs": [],
   "source": [
    "from datetime import datetime"
   ]
  },
  {
   "cell_type": "code",
   "execution_count": 2,
   "metadata": {
    "id": "lRx-hZLgWLmc"
   },
   "outputs": [],
   "source": [
    "# spits out todays date\n",
    "today = datetime.now()"
   ]
  },
  {
   "cell_type": "code",
   "execution_count": 3,
   "metadata": {
    "colab": {
     "base_uri": "https://localhost:8080/"
    },
    "executionInfo": {
     "elapsed": 2,
     "status": "ok",
     "timestamp": 1699487501753,
     "user": {
      "displayName": "Genghis Lopez",
      "userId": "12335099508766339007"
     },
     "user_tz": 300
    },
    "id": "XzXpcpHqWTtF",
    "outputId": "bfd1bdcf-06b8-40e9-850a-8f33fac4a4d5"
   },
   "outputs": [
    {
     "data": {
      "text/plain": [
       "datetime.datetime(2023, 12, 27, 16, 23, 24, 117256)"
      ]
     },
     "execution_count": 3,
     "metadata": {},
     "output_type": "execute_result"
    }
   ],
   "source": [
    "today"
   ]
  },
  {
   "cell_type": "code",
   "execution_count": 7,
   "metadata": {
    "id": "yUuAEVwVWUxt"
   },
   "outputs": [],
   "source": [
    "# can also program it and manipulate it\n",
    "today = datetime(year=2024, month=12, day=20)"
   ]
  },
  {
   "cell_type": "code",
   "execution_count": 8,
   "metadata": {
    "colab": {
     "base_uri": "https://localhost:8080/"
    },
    "executionInfo": {
     "elapsed": 123,
     "status": "ok",
     "timestamp": 1699487551834,
     "user": {
      "displayName": "Genghis Lopez",
      "userId": "12335099508766339007"
     },
     "user_tz": 300
    },
    "id": "hr_3uX6zWeL1",
    "outputId": "b8cd3064-b167-4baa-fbf3-43b6674f365a"
   },
   "outputs": [
    {
     "data": {
      "text/plain": [
       "datetime.datetime(2024, 12, 20, 0, 0)"
      ]
     },
     "execution_count": 8,
     "metadata": {},
     "output_type": "execute_result"
    }
   ],
   "source": [
    "today"
   ]
  },
  {
   "cell_type": "code",
   "execution_count": 9,
   "metadata": {
    "colab": {
     "base_uri": "https://localhost:8080/"
    },
    "executionInfo": {
     "elapsed": 134,
     "status": "ok",
     "timestamp": 1699487583084,
     "user": {
      "displayName": "Genghis Lopez",
      "userId": "12335099508766339007"
     },
     "user_tz": 300
    },
    "id": "AllDYWkaWg98",
    "outputId": "a02a5a83-a9dd-41e7-ccbe-1c2efd32bd75"
   },
   "outputs": [
    {
     "name": "stdout",
     "output_type": "stream",
     "text": [
      "December 20, 2024\n"
     ]
    }
   ],
   "source": [
    "# formatting dates with f-string\n",
    "print(f'{today:%B %d, %Y}')"
   ]
  },
  {
   "cell_type": "markdown",
   "metadata": {
    "id": "TsO5RMp7Wond"
   },
   "source": [
    "## Files"
   ]
  },
  {
   "cell_type": "code",
   "execution_count": 13,
   "metadata": {
    "colab": {
     "base_uri": "https://localhost:8080/"
    },
    "executionInfo": {
     "elapsed": 159,
     "status": "ok",
     "timestamp": 1699488033694,
     "user": {
      "displayName": "Genghis Lopez",
      "userId": "12335099508766339007"
     },
     "user_tz": 300
    },
    "id": "TXMZ1aMbWvC8",
    "outputId": "98795007-708b-4dbf-a3e1-a2e8ee33ed08"
   },
   "outputs": [],
   "source": [
    "# Magic Methods\n",
    "# A way to trick the compiler to do things that are outside the norm of the notebook is capable of doing\n",
    "# !pip install is an example of a magic method - using an outside command aka magic functions\n",
    "\n",
    "# %% write a file for us \n",
    "from typing import Text"
   ]
  },
  {
   "cell_type": "code",
   "execution_count": 12,
   "metadata": {},
   "outputs": [
    {
     "name": "stdout",
     "output_type": "stream",
     "text": [
      "Writing test.txt\n"
     ]
    }
   ],
   "source": [
    "%%writefile test.txt\n",
    "Hi there, General Kenobi.\n",
    "Ohh the negotiator."
   ]
  },
  {
   "cell_type": "code",
   "execution_count": 14,
   "metadata": {
    "id": "E8i_ReCeWvAw"
   },
   "outputs": [],
   "source": [
    "# open the file \n",
    "# assign it to a variable\n",
    "# File needs to be in the current directory or point it to the right location\n",
    "data = open('test.txt')"
   ]
  },
  {
   "cell_type": "code",
   "execution_count": 15,
   "metadata": {
    "colab": {
     "base_uri": "https://localhost:8080/",
     "height": 36
    },
    "executionInfo": {
     "elapsed": 165,
     "status": "ok",
     "timestamp": 1699488063558,
     "user": {
      "displayName": "Genghis Lopez",
      "userId": "12335099508766339007"
     },
     "user_tz": 300
    },
    "id": "p4TXOcmcWu98",
    "outputId": "bf476f72-8c6b-47bc-8e9e-6c7fa680b529"
   },
   "outputs": [
    {
     "data": {
      "text/plain": [
       "'Hi there, General Kenobi.\\nOhh the negotiator.\\n'"
      ]
     },
     "execution_count": 15,
     "metadata": {},
     "output_type": "execute_result"
    }
   ],
   "source": [
    "# in order to read from a file\n",
    "# reads everything from that file\n",
    "data.read()"
   ]
  },
  {
   "cell_type": "code",
   "execution_count": 16,
   "metadata": {
    "colab": {
     "base_uri": "https://localhost:8080/",
     "height": 36
    },
    "executionInfo": {
     "elapsed": 168,
     "status": "ok",
     "timestamp": 1699488074006,
     "user": {
      "displayName": "Genghis Lopez",
      "userId": "12335099508766339007"
     },
     "user_tz": 300
    },
    "id": "3ZX0QbONWu6O",
    "outputId": "ab91aa51-8a7a-4903-96ff-f5007c45406f"
   },
   "outputs": [
    {
     "data": {
      "text/plain": [
       "''"
      ]
     },
     "execution_count": 16,
     "metadata": {},
     "output_type": "execute_result"
    }
   ],
   "source": [
    "# when you call read again \n",
    "# open and read combo thing about it as a type writer\n",
    "# when you ask to read it again there is no more pages\n",
    "data.read()"
   ]
  },
  {
   "cell_type": "code",
   "execution_count": null,
   "metadata": {
    "colab": {
     "base_uri": "https://localhost:8080/"
    },
    "executionInfo": {
     "elapsed": 3,
     "status": "ok",
     "timestamp": 1699488215590,
     "user": {
      "displayName": "Genghis Lopez",
      "userId": "12335099508766339007"
     },
     "user_tz": 300
    },
    "id": "MNYTlSxWWu2c",
    "outputId": "a1809904-7cb6-48f4-91f1-db8481239e51"
   },
   "outputs": [
    {
     "data": {
      "text/plain": [
       "0"
      ]
     },
     "execution_count": 26,
     "metadata": {},
     "output_type": "execute_result"
    }
   ],
   "source": [
    "# have to send the lever back like a typewriter\n",
    "data.seek(0)"
   ]
  },
  {
   "cell_type": "code",
   "execution_count": null,
   "metadata": {
    "colab": {
     "base_uri": "https://localhost:8080/",
     "height": 36
    },
    "executionInfo": {
     "elapsed": 138,
     "status": "ok",
     "timestamp": 1699488221408,
     "user": {
      "displayName": "Genghis Lopez",
      "userId": "12335099508766339007"
     },
     "user_tz": 300
    },
    "id": "xvPXHHJGWuyi",
    "outputId": "20e2424e-5c24-49c0-c1fe-8f2583535474"
   },
   "outputs": [
    {
     "data": {
      "application/vnd.google.colaboratory.intrinsic+json": {
       "type": "string"
      },
      "text/plain": [
       "'Hi there, General Kenobi.\\nOhh the negotiator.\\n'"
      ]
     },
     "execution_count": 27,
     "metadata": {},
     "output_type": "execute_result"
    }
   ],
   "source": [
    "data.read()"
   ]
  },
  {
   "cell_type": "code",
   "execution_count": null,
   "metadata": {
    "colab": {
     "base_uri": "https://localhost:8080/"
    },
    "executionInfo": {
     "elapsed": 3,
     "status": "ok",
     "timestamp": 1699488274318,
     "user": {
      "displayName": "Genghis Lopez",
      "userId": "12335099508766339007"
     },
     "user_tz": 300
    },
    "id": "cuJpIV3EWuux",
    "outputId": "4ecddd76-e2b1-4685-f10d-2a01c66ad6a2"
   },
   "outputs": [
    {
     "data": {
      "text/plain": [
       "['Hi there, General Kenobi.\\n', 'Ohh the negotiator.\\n']"
      ]
     },
     "execution_count": 29,
     "metadata": {},
     "output_type": "execute_result"
    }
   ],
   "source": [
    "data.seek(0)\n",
    "# another method to read, this returns a list\n",
    "data.readlines()"
   ]
  },
  {
   "cell_type": "code",
   "execution_count": null,
   "metadata": {
    "id": "Uc58Bo-xWurG"
   },
   "outputs": [],
   "source": [
    "# once you are done with the file\n",
    "# everything that you open you must close\n",
    "data.close()"
   ]
  },
  {
   "cell_type": "code",
   "execution_count": null,
   "metadata": {
    "id": "jm4dz73EWun1"
   },
   "outputs": [],
   "source": [
    "# will get an error if you try to read it again since it is closed\n",
    "# data.read()"
   ]
  },
  {
   "cell_type": "code",
   "execution_count": 17,
   "metadata": {
    "id": "wXNCvsjSZarx"
   },
   "outputs": [],
   "source": [
    "# what if we want to append to a file\n",
    "# two methods\n",
    "# pass an attribute to open method a+ = append\n",
    "my_file = open('test.txt','a+')"
   ]
  },
  {
   "cell_type": "code",
   "execution_count": 18,
   "metadata": {
    "colab": {
     "base_uri": "https://localhost:8080/"
    },
    "executionInfo": {
     "elapsed": 224,
     "status": "ok",
     "timestamp": 1699488378464,
     "user": {
      "displayName": "Genghis Lopez",
      "userId": "12335099508766339007"
     },
     "user_tz": 300
    },
    "id": "VwanKIpUZoJJ",
    "outputId": "8ee90e05-19f0-496b-ef4f-c78deae1125c"
   },
   "outputs": [
    {
     "data": {
      "text/plain": [
       "23"
      ]
     },
     "execution_count": 18,
     "metadata": {},
     "output_type": "execute_result"
    }
   ],
   "source": [
    "# can now append to the file using .write()\n",
    "my_file.write('\\nThis line is being appended to test.txt')\n",
    "my_file.write('\\nAnd another line here.')"
   ]
  },
  {
   "cell_type": "code",
   "execution_count": 19,
   "metadata": {
    "colab": {
     "base_uri": "https://localhost:8080/"
    },
    "executionInfo": {
     "elapsed": 145,
     "status": "ok",
     "timestamp": 1699488393734,
     "user": {
      "displayName": "Genghis Lopez",
      "userId": "12335099508766339007"
     },
     "user_tz": 300
    },
    "id": "bFI1aJa1Zqvp",
    "outputId": "c8e3e1f8-3422-4c37-dacd-22c73bf9bbf2"
   },
   "outputs": [
    {
     "name": "stdout",
     "output_type": "stream",
     "text": [
      "Hi there, General Kenobi.\n",
      "Ohh the negotiator.\n",
      "\n",
      "This line is being appended to test.txt\n",
      "And another line here.\n"
     ]
    }
   ],
   "source": [
    "my_file.seek(0)\n",
    "print(my_file.read())"
   ]
  },
  {
   "cell_type": "code",
   "execution_count": 20,
   "metadata": {
    "id": "Uzik3ItCZuha"
   },
   "outputs": [],
   "source": [
    "# close what you open\n",
    "my_file.close()"
   ]
  },
  {
   "cell_type": "code",
   "execution_count": 23,
   "metadata": {
    "colab": {
     "base_uri": "https://localhost:8080/"
    },
    "executionInfo": {
     "elapsed": 128,
     "status": "ok",
     "timestamp": 1699488445467,
     "user": {
      "displayName": "Genghis Lopez",
      "userId": "12335099508766339007"
     },
     "user_tz": 300
    },
    "id": "cITeB8H7ZxWB",
    "outputId": "eeecbfef-2634-4079-fcd1-73e20f10513c"
   },
   "outputs": [
    {
     "ename": "SyntaxError",
     "evalue": "invalid syntax (254931544.py, line 3)",
     "output_type": "error",
     "traceback": [
      "\u001b[0;36m  Input \u001b[0;32mIn [23]\u001b[0;36m\u001b[0m\n\u001b[0;31m    This is more text being appended to test.txt\u001b[0m\n\u001b[0m                 ^\u001b[0m\n\u001b[0;31mSyntaxError\u001b[0m\u001b[0;31m:\u001b[0m invalid syntax\n"
     ]
    }
   ],
   "source": [
    "# second method is add an attribute to %%writefile\n",
    "# does not work in jupyter notebook\n",
    "%%writefile -a test.txt\n",
    "This is more text being appended to test.txt\n",
    "And another line here."
   ]
  },
  {
   "cell_type": "code",
   "execution_count": 24,
   "metadata": {},
   "outputs": [],
   "source": [
    "# additional way in jupyter notebook\n",
    "additional_content = '''This is more text being appended to test.txt\n",
    "And another line here.'''\n",
    "with open('test.txt', 'a') as file:\n",
    "    file.write(\"\\n\")  # Ensure a new line\n",
    "    file.write(additional_content)"
   ]
  },
  {
   "cell_type": "code",
   "execution_count": 25,
   "metadata": {
    "colab": {
     "base_uri": "https://localhost:8080/"
    },
    "executionInfo": {
     "elapsed": 147,
     "status": "ok",
     "timestamp": 1699488554868,
     "user": {
      "displayName": "Genghis Lopez",
      "userId": "12335099508766339007"
     },
     "user_tz": 300
    },
    "id": "UZgBjCh2Z7KT",
    "outputId": "f1520fc9-8f7a-4c43-ba51-c3495b243929"
   },
   "outputs": [
    {
     "name": "stdout",
     "output_type": "stream",
     "text": [
      "['Hi there, General Kenobi.\\n', 'Ohh the negotiator.\\n', '\\n', 'This line is being appended to test.txt\\n', 'And another line here.\\n', 'This is more text being appended to test.txt\\n']\n"
     ]
    }
   ],
   "source": [
    "# read the file\n",
    "# keep the file open as long as we need using the with keyword\n",
    "# name it txt\n",
    "with open('test.txt','r') as txt:\n",
    "    # assign a variable and in there we want to read the document with specific lines\n",
    "    first_line = txt.readlines()[0:-1]\n",
    "\n",
    "print(first_line)"
   ]
  },
  {
   "cell_type": "code",
   "execution_count": null,
   "metadata": {
    "id": "KJteH3hBaQ8i"
   },
   "outputs": [],
   "source": [
    "# if we call it outside of the with statement it will not work\n",
    "# will only stay open once the lines of code stay open\n",
    "# the placeholder will dissapear\n",
    "# txt.read()"
   ]
  },
  {
   "cell_type": "markdown",
   "metadata": {
    "id": "qaTDWywoaZ2y"
   },
   "source": [
    "# Working with PDFs by using PyPDF2"
   ]
  },
  {
   "cell_type": "code",
   "execution_count": null,
   "metadata": {
    "colab": {
     "base_uri": "https://localhost:8080/"
    },
    "executionInfo": {
     "elapsed": 6574,
     "status": "ok",
     "timestamp": 1699488781144,
     "user": {
      "displayName": "Genghis Lopez",
      "userId": "12335099508766339007"
     },
     "user_tz": 300
    },
    "id": "fnGbO_NWbJlx",
    "outputId": "35783480-1cd5-492e-ea6b-bc8fdf7feaf0"
   },
   "outputs": [
    {
     "name": "stdout",
     "output_type": "stream",
     "text": [
      "Collecting PyPDF2\n",
      "  Downloading pypdf2-3.0.1-py3-none-any.whl (232 kB)\n",
      "\u001b[2K     \u001b[90m━━━━━━━━━━━━━━━━━━━━━━━━━━━━━━━━━━━━━━━━\u001b[0m \u001b[32m232.6/232.6 kB\u001b[0m \u001b[31m3.4 MB/s\u001b[0m eta \u001b[36m0:00:00\u001b[0m\n",
      "\u001b[?25hInstalling collected packages: PyPDF2\n",
      "Successfully installed PyPDF2-3.0.1\n"
     ]
    }
   ],
   "source": [
    "# install the library\n",
    "!pip install PyPDF2"
   ]
  },
  {
   "cell_type": "code",
   "execution_count": null,
   "metadata": {
    "id": "KThPKmPxbF1h"
   },
   "outputs": [],
   "source": [
    "import PyPDF2"
   ]
  },
  {
   "cell_type": "code",
   "execution_count": null,
   "metadata": {
    "id": "fA1OWHuearYU"
   },
   "outputs": [],
   "source": [
    "# Reading PDFs\n",
    "# point to where the pdf is\n",
    "# rb = read and interpret whats inside b = bytes\n",
    "# r only will cause issues \n",
    "\n",
    "f = open('/content/drive/MyDrive/LaGuardia Classes/Fall 2023 Predictive Analytics/US_Declaration.pdf', 'rb')"
   ]
  },
  {
   "cell_type": "code",
   "execution_count": null,
   "metadata": {
    "id": "151CUQsBarTO"
   },
   "outputs": [],
   "source": [
    "pdf_reader = PyPDF2.PdfReader(f)"
   ]
  },
  {
   "cell_type": "code",
   "execution_count": null,
   "metadata": {
    "colab": {
     "base_uri": "https://localhost:8080/"
    },
    "executionInfo": {
     "elapsed": 329,
     "status": "ok",
     "timestamp": 1699489039703,
     "user": {
      "displayName": "Genghis Lopez",
      "userId": "12335099508766339007"
     },
     "user_tz": 300
    },
    "id": "FnxCi863arPD",
    "outputId": "e057c62d-3502-4e10-da07-fadd8a959ba8"
   },
   "outputs": [
    {
     "data": {
      "text/plain": [
       "5"
      ]
     },
     "execution_count": 52,
     "metadata": {},
     "output_type": "execute_result"
    }
   ],
   "source": [
    "# print the number of pages found in the pdf\n",
    "len(pdf_reader.pages)"
   ]
  },
  {
   "cell_type": "code",
   "execution_count": null,
   "metadata": {
    "id": "g2HFMhIvcVIT"
   },
   "outputs": [],
   "source": [
    "# extract a page\n",
    "# [0] = page number\n",
    "page_one = pdf_reader.pages[0]"
   ]
  },
  {
   "cell_type": "code",
   "execution_count": null,
   "metadata": {
    "id": "HxYIu8RfarL_"
   },
   "outputs": [],
   "source": [
    "page_one_text = page_one.extract_text()"
   ]
  },
  {
   "cell_type": "code",
   "execution_count": null,
   "metadata": {
    "colab": {
     "base_uri": "https://localhost:8080/",
     "height": 107
    },
    "executionInfo": {
     "elapsed": 173,
     "status": "ok",
     "timestamp": 1699489138653,
     "user": {
      "displayName": "Genghis Lopez",
      "userId": "12335099508766339007"
     },
     "user_tz": 300
    },
    "id": "xkodBzcWarIY",
    "outputId": "3150e00a-79b8-46d8-cc71-ceba5db706c8"
   },
   "outputs": [
    {
     "data": {
      "application/vnd.google.colaboratory.intrinsic+json": {
       "type": "string"
      },
      "text/plain": [
       "\"Declaration of Independence\\nIN CONGRESS, July 4, 1776.  \\nThe unanimous Declaration of the thirteen united States of America,  \\nWhen in the Course of human events, it becomes necessary for one people to dissolve thepolitical bands which have connected them with another, and to assume among the powers of theearth, the separate and equal station to which the Laws of Nature and of Nature's God entitlethem, a decent respect to the opinions of mankind requires that they should declare the causeswhich impel them to the separation. We hold these truths to be self-evident, that all men are created equal, that they are endowed bytheir Creator with certain unalienable Rights, that among these are Life, Liberty and the pursuit\\nof Happiness.— \\x14That to secure these rights, Governments are instituted among Men, derivingtheir just powers from the consent of the governed,—  \\x14That whenever any Form of Government\\nbecomes destructive of these ends, it is the Right of the People to alter or to abolish it, and to\\ninstitute new Government, laying its foundation on such principles and organizing its powers in\\nsuch form, as to them shall seem most likely to effect their Safety and Happiness. Prudence,indeed, will dictate that Governments long established should not be changed for light andtransient causes; and accordingly all experience hath shewn, that mankind are more disposed to\\nsuffer, while evils are sufferable, than to right themselves by abolishing the forms to which theyare accustomed. But when a long train of abuses and usurpations, pursuing invariably the same\\nObject evinces a design to reduce them under absolute Despotism, it is their right, it is their duty,\\nto throw off such Government, and to provide new Guards for their future securit y.— \\x14Such has\\nbeen the patient sufferance of these Colonies; and such is now the necessity which constrainsthem to alter their former Systems of Government. The history of the present King of GreatBritain is a history of repeated injuries and usurpations, all having in direct object the\\nestablishment of an absolute Tyranny over these States. To prove this, let Facts be submitted to a\\ncandid world. \\nHe has refused his Assent to Laws, the most wholesome and necessary for the\\npublic good.He has forbidden his Governors to pass Laws of immediate and pressingimportance, unless suspended in their operation till his Assent should be obtained;and when so suspended, he has utterly neglected to attend to them.He has refused to pass other Laws for the accommodation of large districts of\\npeople, unless those people would relinquish the right of Representation in theLegislature, a right inestimable to them and formidable to tyrants only. He has called together legislative bodies at places unusual, uncomfortable, and distantfrom the depository of their public Records, for the sole purpose of fatiguing them into\\ncompliance with his measures.\""
      ]
     },
     "execution_count": 59,
     "metadata": {},
     "output_type": "execute_result"
    }
   ],
   "source": [
    "# first page\n",
    "page_one_text"
   ]
  },
  {
   "cell_type": "code",
   "execution_count": null,
   "metadata": {
    "id": "gAKpR5lJarE1"
   },
   "outputs": [],
   "source": [
    "# close the file\n",
    "f.close()"
   ]
  },
  {
   "cell_type": "markdown",
   "metadata": {
    "id": "qwa-v2x2arCf"
   },
   "source": [
    "# Regular expressions"
   ]
  },
  {
   "cell_type": "markdown",
   "metadata": {
    "id": "S8aUVMiwaq-b"
   },
   "source": [
    "### Searching for Basic Patterns"
   ]
  },
  {
   "cell_type": "code",
   "execution_count": null,
   "metadata": {
    "id": "TskEZ6lMdPT1"
   },
   "outputs": [],
   "source": [
    "import re"
   ]
  },
  {
   "cell_type": "code",
   "execution_count": null,
   "metadata": {
    "id": "DrXuYPUYaq7Q"
   },
   "outputs": [],
   "source": [
    "text = \"The agent's phone number is 408-555-1234. Call soon!\""
   ]
  },
  {
   "cell_type": "code",
   "execution_count": null,
   "metadata": {
    "colab": {
     "base_uri": "https://localhost:8080/"
    },
    "executionInfo": {
     "elapsed": 128,
     "status": "ok",
     "timestamp": 1699489303051,
     "user": {
      "displayName": "Genghis Lopez",
      "userId": "12335099508766339007"
     },
     "user_tz": 300
    },
    "id": "1MJ5q_rNaq32",
    "outputId": "fe05a064-096c-4f67-bb6d-35f24a7582ed"
   },
   "outputs": [
    {
     "data": {
      "text/plain": [
       "True"
      ]
     },
     "execution_count": 62,
     "metadata": {},
     "output_type": "execute_result"
    }
   ],
   "source": [
    "'phone' in text"
   ]
  },
  {
   "cell_type": "code",
   "execution_count": null,
   "metadata": {
    "id": "qCb5qNDzc7Hr"
   },
   "outputs": [],
   "source": [
    "pattern = 'phone'"
   ]
  },
  {
   "cell_type": "code",
   "execution_count": null,
   "metadata": {
    "colab": {
     "base_uri": "https://localhost:8080/"
    },
    "executionInfo": {
     "elapsed": 168,
     "status": "ok",
     "timestamp": 1699489363215,
     "user": {
      "displayName": "Genghis Lopez",
      "userId": "12335099508766339007"
     },
     "user_tz": 300
    },
    "id": "JnBpceJbc7EZ",
    "outputId": "f78b06f8-23e5-422f-c88f-2970e4c20c93"
   },
   "outputs": [
    {
     "data": {
      "text/plain": [
       "<re.Match object; span=(12, 17), match='phone'>"
      ]
     },
     "execution_count": 65,
     "metadata": {},
     "output_type": "execute_result"
    }
   ],
   "source": [
    "re.search(pattern, text)"
   ]
  },
  {
   "cell_type": "code",
   "execution_count": null,
   "metadata": {
    "id": "ordo3lN4c7CP"
   },
   "outputs": [],
   "source": [
    "match = re.search(pattern,text)"
   ]
  },
  {
   "cell_type": "code",
   "execution_count": null,
   "metadata": {
    "colab": {
     "base_uri": "https://localhost:8080/"
    },
    "executionInfo": {
     "elapsed": 159,
     "status": "ok",
     "timestamp": 1699489414140,
     "user": {
      "displayName": "Genghis Lopez",
      "userId": "12335099508766339007"
     },
     "user_tz": 300
    },
    "id": "MfwitieTc6_P",
    "outputId": "48cc3862-99a7-4b94-eb17-9da24c27814f"
   },
   "outputs": [
    {
     "data": {
      "text/plain": [
       "<re.Match object; span=(12, 17), match='phone'>"
      ]
     },
     "execution_count": 67,
     "metadata": {},
     "output_type": "execute_result"
    }
   ],
   "source": [
    "match"
   ]
  },
  {
   "cell_type": "code",
   "execution_count": null,
   "metadata": {
    "colab": {
     "base_uri": "https://localhost:8080/"
    },
    "executionInfo": {
     "elapsed": 144,
     "status": "ok",
     "timestamp": 1699489427673,
     "user": {
      "displayName": "Genghis Lopez",
      "userId": "12335099508766339007"
     },
     "user_tz": 300
    },
    "id": "1_bD4goIc68k",
    "outputId": "d0124502-ccd3-45af-93db-fb292f25785e"
   },
   "outputs": [
    {
     "data": {
      "text/plain": [
       "(12, 17)"
      ]
     },
     "execution_count": 68,
     "metadata": {},
     "output_type": "execute_result"
    }
   ],
   "source": [
    "match.span()"
   ]
  },
  {
   "cell_type": "code",
   "execution_count": null,
   "metadata": {
    "colab": {
     "base_uri": "https://localhost:8080/"
    },
    "executionInfo": {
     "elapsed": 135,
     "status": "ok",
     "timestamp": 1699489436754,
     "user": {
      "displayName": "Genghis Lopez",
      "userId": "12335099508766339007"
     },
     "user_tz": 300
    },
    "id": "HQYoe3L2c65j",
    "outputId": "72d7c1a4-caeb-4428-8583-1a66bb69be9e"
   },
   "outputs": [
    {
     "data": {
      "text/plain": [
       "12"
      ]
     },
     "execution_count": 69,
     "metadata": {},
     "output_type": "execute_result"
    }
   ],
   "source": [
    "match.start()"
   ]
  },
  {
   "cell_type": "code",
   "execution_count": null,
   "metadata": {
    "colab": {
     "base_uri": "https://localhost:8080/"
    },
    "executionInfo": {
     "elapsed": 193,
     "status": "ok",
     "timestamp": 1699489445135,
     "user": {
      "displayName": "Genghis Lopez",
      "userId": "12335099508766339007"
     },
     "user_tz": 300
    },
    "id": "-3xiWqzQc615",
    "outputId": "c8b18b99-e89b-4580-d062-e7f345b69f51"
   },
   "outputs": [
    {
     "data": {
      "text/plain": [
       "17"
      ]
     },
     "execution_count": 70,
     "metadata": {},
     "output_type": "execute_result"
    }
   ],
   "source": [
    "match.end()"
   ]
  },
  {
   "cell_type": "code",
   "execution_count": null,
   "metadata": {
    "id": "PtZfLyV9dvM-"
   },
   "outputs": [],
   "source": [
    "text = \"my phone is a new phone\""
   ]
  },
  {
   "cell_type": "code",
   "execution_count": null,
   "metadata": {
    "id": "buJ6B2WVd0EA"
   },
   "outputs": [],
   "source": [
    "match = re.search(\"phone\", text)"
   ]
  },
  {
   "cell_type": "code",
   "execution_count": null,
   "metadata": {
    "colab": {
     "base_uri": "https://localhost:8080/"
    },
    "executionInfo": {
     "elapsed": 3,
     "status": "ok",
     "timestamp": 1699489492567,
     "user": {
      "displayName": "Genghis Lopez",
      "userId": "12335099508766339007"
     },
     "user_tz": 300
    },
    "id": "TazBMoCRd36w",
    "outputId": "83cf380b-2ae2-4afe-98d7-912b90b6baff"
   },
   "outputs": [
    {
     "data": {
      "text/plain": [
       "(3, 8)"
      ]
     },
     "execution_count": 74,
     "metadata": {},
     "output_type": "execute_result"
    }
   ],
   "source": [
    "match.span()"
   ]
  },
  {
   "cell_type": "code",
   "execution_count": null,
   "metadata": {
    "id": "AZdMBKRMd47O"
   },
   "outputs": [],
   "source": [
    "matches = re.findall(\"phone\",text)"
   ]
  },
  {
   "cell_type": "code",
   "execution_count": null,
   "metadata": {
    "colab": {
     "base_uri": "https://localhost:8080/"
    },
    "executionInfo": {
     "elapsed": 136,
     "status": "ok",
     "timestamp": 1699489525013,
     "user": {
      "displayName": "Genghis Lopez",
      "userId": "12335099508766339007"
     },
     "user_tz": 300
    },
    "id": "8JZ3U62beAiu",
    "outputId": "ef9c030f-5612-447d-89b5-c2546f838d57"
   },
   "outputs": [
    {
     "data": {
      "text/plain": [
       "['phone', 'phone']"
      ]
     },
     "execution_count": 76,
     "metadata": {},
     "output_type": "execute_result"
    }
   ],
   "source": [
    "matches"
   ]
  },
  {
   "cell_type": "code",
   "execution_count": null,
   "metadata": {
    "colab": {
     "base_uri": "https://localhost:8080/"
    },
    "executionInfo": {
     "elapsed": 137,
     "status": "ok",
     "timestamp": 1699489643238,
     "user": {
      "displayName": "Genghis Lopez",
      "userId": "12335099508766339007"
     },
     "user_tz": 300
    },
    "id": "Sl9mSduXeCtP",
    "outputId": "5b3fd3fc-b776-4e7d-de2a-683b7c7ecf7b"
   },
   "outputs": [
    {
     "name": "stdout",
     "output_type": "stream",
     "text": [
      "(3, 8)\n",
      "(18, 23)\n"
     ]
    }
   ],
   "source": [
    "for match in re.finditer(\"phone\", text):\n",
    "    print(match.span())"
   ]
  },
  {
   "cell_type": "code",
   "execution_count": null,
   "metadata": {
    "id": "K6ROv4B1efk-"
   },
   "outputs": [],
   "source": [
    "text = \"My telephone number is 408-555-1234\""
   ]
  },
  {
   "cell_type": "code",
   "execution_count": null,
   "metadata": {
    "id": "I2hJ-CWXempP"
   },
   "outputs": [],
   "source": [
    "phone = re.search(r'\\d\\d\\d-\\d\\d\\d-\\d\\d\\d\\d', text)"
   ]
  },
  {
   "cell_type": "code",
   "execution_count": null,
   "metadata": {
    "colab": {
     "base_uri": "https://localhost:8080/",
     "height": 36
    },
    "executionInfo": {
     "elapsed": 145,
     "status": "ok",
     "timestamp": 1699489733282,
     "user": {
      "displayName": "Genghis Lopez",
      "userId": "12335099508766339007"
     },
     "user_tz": 300
    },
    "id": "256Pv51ieziZ",
    "outputId": "15bde453-3432-4295-b78d-57f051edf8a4"
   },
   "outputs": [
    {
     "data": {
      "application/vnd.google.colaboratory.intrinsic+json": {
       "type": "string"
      },
      "text/plain": [
       "'408-555-1234'"
      ]
     },
     "execution_count": 80,
     "metadata": {},
     "output_type": "execute_result"
    }
   ],
   "source": [
    "phone.group()"
   ]
  },
  {
   "cell_type": "markdown",
   "metadata": {
    "id": "__Gvfgdde1jw"
   },
   "source": [
    "<table ><tr><th>Character</th><th>Description</th><th>Example Pattern Code</th><th >Exammple Match</th></tr>\n",
    "\n",
    "<tr ><td><span >+</span></td><td>Occurs one or more times</td><td>\tVersion \\w-\\w+</td><td>Version A-b1_1</td></tr>\n",
    "\n",
    "<tr ><td><span >{3}</span></td><td>Occurs exactly 3 times</td><td>\\D{3}</td><td>abc</td></tr>\n",
    "\n",
    "\n",
    "\n",
    "<tr ><td><span >{2,4}</span></td><td>Occurs 2 to 4 times</td><td>\\d{2,4}</td><td>123</td></tr>\n",
    "\n",
    "\n",
    "\n",
    "<tr ><td><span >{3,}</span></td><td>Occurs 3 or more</td><td>\\w{3,}</td><td>anycharacters</td></tr>\n",
    "\n",
    "<tr ><td><span >\\*</span></td><td>Occurs zero or more times</td><td>A\\*B\\*C*</td><td>AAACC</td></tr>\n",
    "\n",
    "<tr ><td><span >?</span></td><td>Once or none</td><td>plurals?</td><td>plural</td></tr></table>"
   ]
  },
  {
   "cell_type": "code",
   "execution_count": null,
   "metadata": {
    "colab": {
     "base_uri": "https://localhost:8080/"
    },
    "executionInfo": {
     "elapsed": 125,
     "status": "ok",
     "timestamp": 1699489814313,
     "user": {
      "displayName": "Genghis Lopez",
      "userId": "12335099508766339007"
     },
     "user_tz": 300
    },
    "id": "wa6Iplt1fDDH",
    "outputId": "fd47ba98-05f9-4bc1-e91d-11432e716687"
   },
   "outputs": [
    {
     "data": {
      "text/plain": [
       "<re.Match object; span=(23, 35), match='408-555-1234'>"
      ]
     },
     "execution_count": 81,
     "metadata": {},
     "output_type": "execute_result"
    }
   ],
   "source": [
    "re.search(r'\\d{3}-\\d{3}-\\d{4}',text)"
   ]
  },
  {
   "cell_type": "markdown",
   "metadata": {
    "id": "iyMSc7mHfDAV"
   },
   "source": [
    "# Intro to SpaCy"
   ]
  },
  {
   "cell_type": "code",
   "execution_count": null,
   "metadata": {
    "id": "GCB8qJeKqGbQ"
   },
   "outputs": [],
   "source": [
    "# Reference: https://spacy.io/"
   ]
  },
  {
   "cell_type": "code",
   "execution_count": null,
   "metadata": {
    "id": "BEuxjBlsfC86"
   },
   "outputs": [],
   "source": [
    "import spacy"
   ]
  },
  {
   "cell_type": "code",
   "execution_count": null,
   "metadata": {
    "id": "QFQFpFCploH6"
   },
   "outputs": [],
   "source": [
    "nlp = spacy.load('en_core_web_sm')"
   ]
  },
  {
   "cell_type": "code",
   "execution_count": null,
   "metadata": {
    "id": "xCj7RfMCloBe"
   },
   "outputs": [],
   "source": [
    "doc = nlp(u'Tesla is looking at buying U.S. startup for $6 million')"
   ]
  },
  {
   "cell_type": "code",
   "execution_count": null,
   "metadata": {
    "colab": {
     "base_uri": "https://localhost:8080/"
    },
    "executionInfo": {
     "elapsed": 2,
     "status": "ok",
     "timestamp": 1699491834102,
     "user": {
      "displayName": "Genghis Lopez",
      "userId": "12335099508766339007"
     },
     "user_tz": 300
    },
    "id": "mI7q39PWln-E",
    "outputId": "b980efcc-a952-4b1e-f8b4-50ff96ed0c65"
   },
   "outputs": [
    {
     "name": "stdout",
     "output_type": "stream",
     "text": [
      "Tesla PROPN nsubj\n",
      "is AUX aux\n",
      "looking VERB ROOT\n",
      "at ADP prep\n",
      "buying VERB pcomp\n",
      "U.S. PROPN compound\n",
      "startup NOUN dobj\n",
      "for ADP prep\n",
      "$ SYM quantmod\n",
      "6 NUM compound\n",
      "million NUM pobj\n"
     ]
    }
   ],
   "source": [
    "for token in doc:\n",
    "    print(token.text, token.pos_, token.dep_)"
   ]
  },
  {
   "cell_type": "markdown",
   "metadata": {
    "id": "i-qvHXPOln7E"
   },
   "source": [
    "### Pipeline"
   ]
  },
  {
   "cell_type": "code",
   "execution_count": null,
   "metadata": {
    "colab": {
     "base_uri": "https://localhost:8080/"
    },
    "executionInfo": {
     "elapsed": 123,
     "status": "ok",
     "timestamp": 1699492064269,
     "user": {
      "displayName": "Genghis Lopez",
      "userId": "12335099508766339007"
     },
     "user_tz": 300
    },
    "id": "dSth_r6cntPc",
    "outputId": "b6af65d1-8e89-4aee-92e4-3ab5f30be352"
   },
   "outputs": [
    {
     "data": {
      "text/plain": [
       "[('tok2vec', <spacy.pipeline.tok2vec.Tok2Vec at 0x780e0db97820>),\n",
       " ('tagger', <spacy.pipeline.tagger.Tagger at 0x780e0db97340>),\n",
       " ('parser', <spacy.pipeline.dep_parser.DependencyParser at 0x780e0dc90cf0>),\n",
       " ('attribute_ruler',\n",
       "  <spacy.pipeline.attributeruler.AttributeRuler at 0x780e0da94900>),\n",
       " ('lemmatizer',\n",
       "  <spacy.lang.en.lemmatizer.EnglishLemmatizer at 0x780e0d97aa40>),\n",
       " ('ner', <spacy.pipeline.ner.EntityRecognizer at 0x780e0dc90f90>)]"
      ]
     },
     "execution_count": 87,
     "metadata": {},
     "output_type": "execute_result"
    }
   ],
   "source": [
    "nlp.pipeline"
   ]
  },
  {
   "cell_type": "code",
   "execution_count": null,
   "metadata": {
    "colab": {
     "base_uri": "https://localhost:8080/"
    },
    "executionInfo": {
     "elapsed": 132,
     "status": "ok",
     "timestamp": 1699492086683,
     "user": {
      "displayName": "Genghis Lopez",
      "userId": "12335099508766339007"
     },
     "user_tz": 300
    },
    "id": "IIdc_wLentMg",
    "outputId": "b3a85ca2-bf68-4801-ea1b-1885cd2171c0"
   },
   "outputs": [
    {
     "data": {
      "text/plain": [
       "['tok2vec', 'tagger', 'parser', 'attribute_ruler', 'lemmatizer', 'ner']"
      ]
     },
     "execution_count": 88,
     "metadata": {},
     "output_type": "execute_result"
    }
   ],
   "source": [
    "nlp.pipe_names"
   ]
  },
  {
   "cell_type": "markdown",
   "metadata": {
    "id": "6vqFmrGkntJe"
   },
   "source": [
    "### Tokenization"
   ]
  },
  {
   "cell_type": "code",
   "execution_count": null,
   "metadata": {
    "colab": {
     "base_uri": "https://localhost:8080/"
    },
    "executionInfo": {
     "elapsed": 181,
     "status": "ok",
     "timestamp": 1699492439100,
     "user": {
      "displayName": "Genghis Lopez",
      "userId": "12335099508766339007"
     },
     "user_tz": 300
    },
    "id": "HUCD_EPintGj",
    "outputId": "01788135-522f-48b2-e7fd-6a15f348852f"
   },
   "outputs": [
    {
     "name": "stdout",
     "output_type": "stream",
     "text": [
      "Tesla PROPN nsubj\n",
      "is AUX aux\n",
      "n't PART neg\n",
      "   SPACE dep\n",
      "looking VERB ROOT\n",
      "into ADP prep\n",
      "startups NOUN pobj\n",
      "anymore ADV advmod\n",
      ". PUNCT punct\n"
     ]
    }
   ],
   "source": [
    "doc2 = nlp(u\"Tesla isn't   looking into startups anymore.\")\n",
    "\n",
    "for token in doc2:\n",
    "    print(token.text, token.pos_, token.dep_)"
   ]
  },
  {
   "cell_type": "code",
   "execution_count": null,
   "metadata": {
    "colab": {
     "base_uri": "https://localhost:8080/"
    },
    "executionInfo": {
     "elapsed": 134,
     "status": "ok",
     "timestamp": 1699492478438,
     "user": {
      "displayName": "Genghis Lopez",
      "userId": "12335099508766339007"
     },
     "user_tz": 300
    },
    "id": "nJc2gVRdntDK",
    "outputId": "cd18ca72-9ade-42fb-f941-2952b58c75d2"
   },
   "outputs": [
    {
     "data": {
      "text/plain": [
       "Tesla isn't   looking into startups anymore."
      ]
     },
     "execution_count": 90,
     "metadata": {},
     "output_type": "execute_result"
    }
   ],
   "source": [
    "doc2"
   ]
  },
  {
   "cell_type": "code",
   "execution_count": null,
   "metadata": {
    "colab": {
     "base_uri": "https://localhost:8080/"
    },
    "executionInfo": {
     "elapsed": 148,
     "status": "ok",
     "timestamp": 1699492490008,
     "user": {
      "displayName": "Genghis Lopez",
      "userId": "12335099508766339007"
     },
     "user_tz": 300
    },
    "id": "n2RJhsObns_6",
    "outputId": "82cfc333-167c-4928-fac0-4ffcdf098888"
   },
   "outputs": [
    {
     "data": {
      "text/plain": [
       "spacy.tokens.doc.Doc"
      ]
     },
     "execution_count": 91,
     "metadata": {},
     "output_type": "execute_result"
    }
   ],
   "source": [
    "type(doc2)"
   ]
  },
  {
   "cell_type": "markdown",
   "metadata": {
    "id": "PsMnUztuns8Q"
   },
   "source": [
    "### Part-of-Speech Tagging (POS)"
   ]
  },
  {
   "cell_type": "code",
   "execution_count": null,
   "metadata": {
    "colab": {
     "base_uri": "https://localhost:8080/",
     "height": 36
    },
    "executionInfo": {
     "elapsed": 148,
     "status": "ok",
     "timestamp": 1699492564588,
     "user": {
      "displayName": "Genghis Lopez",
      "userId": "12335099508766339007"
     },
     "user_tz": 300
    },
    "id": "hRPyomORpejN",
    "outputId": "8356a032-7acf-4fa1-8f62-a407f3b4f7ad"
   },
   "outputs": [
    {
     "data": {
      "application/vnd.google.colaboratory.intrinsic+json": {
       "type": "string"
      },
      "text/plain": [
       "'PROPN'"
      ]
     },
     "execution_count": 96,
     "metadata": {},
     "output_type": "execute_result"
    }
   ],
   "source": [
    "doc2[0].pos_"
   ]
  },
  {
   "cell_type": "code",
   "execution_count": null,
   "metadata": {
    "colab": {
     "base_uri": "https://localhost:8080/",
     "height": 36
    },
    "executionInfo": {
     "elapsed": 149,
     "status": "ok",
     "timestamp": 1699492582157,
     "user": {
      "displayName": "Genghis Lopez",
      "userId": "12335099508766339007"
     },
     "user_tz": 300
    },
    "id": "yfpdwc6tpgUO",
    "outputId": "66934f80-4dd2-4f27-b1d8-26b0d734add3"
   },
   "outputs": [
    {
     "data": {
      "application/vnd.google.colaboratory.intrinsic+json": {
       "type": "string"
      },
      "text/plain": [
       "'proper noun'"
      ]
     },
     "execution_count": 97,
     "metadata": {},
     "output_type": "execute_result"
    }
   ],
   "source": [
    "spacy.explain('PROPN')"
   ]
  },
  {
   "cell_type": "code",
   "execution_count": null,
   "metadata": {
    "colab": {
     "base_uri": "https://localhost:8080/",
     "height": 36
    },
    "executionInfo": {
     "elapsed": 136,
     "status": "ok",
     "timestamp": 1699492591152,
     "user": {
      "displayName": "Genghis Lopez",
      "userId": "12335099508766339007"
     },
     "user_tz": 300
    },
    "id": "D5uJmzDfpgRE",
    "outputId": "22f0d144-aa46-450d-d587-2768acfac873"
   },
   "outputs": [
    {
     "data": {
      "application/vnd.google.colaboratory.intrinsic+json": {
       "type": "string"
      },
      "text/plain": [
       "'nominal subject'"
      ]
     },
     "execution_count": 98,
     "metadata": {},
     "output_type": "execute_result"
    }
   ],
   "source": [
    "spacy.explain('nsubj')"
   ]
  },
  {
   "cell_type": "markdown",
   "metadata": {
    "id": "dG_QVYs2pgOU"
   },
   "source": [
    "### Additional Token Attributes"
   ]
  },
  {
   "cell_type": "markdown",
   "metadata": {
    "id": "k61UnF50pgLC"
   },
   "source": [
    "|Tag|Description|doc2[0].tag|\n",
    "|:------|:------:|:------|\n",
    "|`.text`|The original word text<!-- .element: style=\"text-align:left;\" -->|`Tesla`|\n",
    "|`.lemma_`|The base form of the word|`tesla`|\n",
    "|`.pos_`|The simple part-of-speech tag|`PROPN`/`proper noun`|\n",
    "|`.tag_`|The detailed part-of-speech tag|`NNP`/`noun, proper singular`|\n",
    "|`.shape_`|The word shape – capitalization, punctuation, digits|`Xxxxx`|\n",
    "|`.is_alpha`|Is the token an alpha character?|`True`|\n",
    "|`.is_stop`|Is the token part of a stop list, i.e. the most common words of the language?|`False`|"
   ]
  },
  {
   "cell_type": "code",
   "execution_count": null,
   "metadata": {
    "colab": {
     "base_uri": "https://localhost:8080/"
    },
    "executionInfo": {
     "elapsed": 139,
     "status": "ok",
     "timestamp": 1699492744132,
     "user": {
      "displayName": "Genghis Lopez",
      "userId": "12335099508766339007"
     },
     "user_tz": 300
    },
    "id": "eVSFEW2TpgHo",
    "outputId": "d1dc99b7-1f3d-4b38-d67d-a220a8dd7fdd"
   },
   "outputs": [
    {
     "name": "stdout",
     "output_type": "stream",
     "text": [
      "looking\n",
      "look\n"
     ]
    }
   ],
   "source": [
    "# Lemmas (the base form of the word):\n",
    "print(doc2[4].text)\n",
    "print(doc2[4].lemma_)"
   ]
  },
  {
   "cell_type": "code",
   "execution_count": null,
   "metadata": {
    "colab": {
     "base_uri": "https://localhost:8080/"
    },
    "executionInfo": {
     "elapsed": 143,
     "status": "ok",
     "timestamp": 1699492753824,
     "user": {
      "displayName": "Genghis Lopez",
      "userId": "12335099508766339007"
     },
     "user_tz": 300
    },
    "id": "sOaPlcoOqUod",
    "outputId": "92eea127-4dd8-47d3-b508-3ff070d3fbf9"
   },
   "outputs": [
    {
     "name": "stdout",
     "output_type": "stream",
     "text": [
      "VERB\n",
      "VBG / verb, gerund or present participle\n"
     ]
    }
   ],
   "source": [
    "# Simple Parts-of-Speech & Detailed Tags:\n",
    "print(doc2[4].pos_)\n",
    "print(doc2[4].tag_ + ' / ' + spacy.explain(doc2[4].tag_))"
   ]
  },
  {
   "cell_type": "code",
   "execution_count": null,
   "metadata": {
    "colab": {
     "base_uri": "https://localhost:8080/"
    },
    "executionInfo": {
     "elapsed": 153,
     "status": "ok",
     "timestamp": 1699492761573,
     "user": {
      "displayName": "Genghis Lopez",
      "userId": "12335099508766339007"
     },
     "user_tz": 300
    },
    "id": "D8xsgn4uqW_l",
    "outputId": "c4b154b6-fb16-4dc8-aac5-e7e2f47a2b49"
   },
   "outputs": [
    {
     "name": "stdout",
     "output_type": "stream",
     "text": [
      "Tesla: Xxxxx\n",
      "U.S. : X.X.\n"
     ]
    }
   ],
   "source": [
    "# Word Shapes:\n",
    "print(doc2[0].text+': '+doc2[0].shape_)\n",
    "print(doc[5].text+' : '+doc[5].shape_)"
   ]
  },
  {
   "cell_type": "code",
   "execution_count": null,
   "metadata": {
    "colab": {
     "base_uri": "https://localhost:8080/"
    },
    "executionInfo": {
     "elapsed": 143,
     "status": "ok",
     "timestamp": 1699492782612,
     "user": {
      "displayName": "Genghis Lopez",
      "userId": "12335099508766339007"
     },
     "user_tz": 300
    },
    "id": "Gm0EmYv0qY4t",
    "outputId": "f6825572-e359-49e4-ea6f-2a9536ea9f01"
   },
   "outputs": [
    {
     "name": "stdout",
     "output_type": "stream",
     "text": [
      "True\n",
      "False\n"
     ]
    }
   ],
   "source": [
    "# Boolean Values:\n",
    "print(doc2[0].is_alpha)\n",
    "print(doc2[0].is_stop)"
   ]
  },
  {
   "cell_type": "markdown",
   "metadata": {
    "id": "eJLHne8qqeBN"
   },
   "source": [
    "### Spans"
   ]
  },
  {
   "cell_type": "code",
   "execution_count": null,
   "metadata": {
    "id": "Q8D4ce8HqlYm"
   },
   "outputs": [],
   "source": [
    "doc3 = nlp(u'Although commmonly attributed to John Lennon from his song \"Beautiful Boy\", \\\n",
    "the phrase \"Life is what happens to us while we are making other plans\" was written by \\\n",
    "cartoonist Allen Saunders and published in Reader\\'s Digest in 1957, when Lennon was 17.')"
   ]
  },
  {
   "cell_type": "code",
   "execution_count": null,
   "metadata": {
    "colab": {
     "base_uri": "https://localhost:8080/"
    },
    "executionInfo": {
     "elapsed": 127,
     "status": "ok",
     "timestamp": 1699492882284,
     "user": {
      "displayName": "Genghis Lopez",
      "userId": "12335099508766339007"
     },
     "user_tz": 300
    },
    "id": "97ONOqJOqlVN",
    "outputId": "5960877a-d925-4858-fb68-712e0e1098aa"
   },
   "outputs": [
    {
     "name": "stdout",
     "output_type": "stream",
     "text": [
      "\"Life is what happens to us while we are making other plans\"\n"
     ]
    }
   ],
   "source": [
    "life_quote = doc3[16:30]\n",
    "print(life_quote)"
   ]
  },
  {
   "cell_type": "code",
   "execution_count": null,
   "metadata": {
    "colab": {
     "base_uri": "https://localhost:8080/"
    },
    "executionInfo": {
     "elapsed": 117,
     "status": "ok",
     "timestamp": 1699492894425,
     "user": {
      "displayName": "Genghis Lopez",
      "userId": "12335099508766339007"
     },
     "user_tz": 300
    },
    "id": "Y-8ZlovqqlSQ",
    "outputId": "6b73ec2f-2942-4855-c8f5-50d0bc2b223a"
   },
   "outputs": [
    {
     "data": {
      "text/plain": [
       "spacy.tokens.span.Span"
      ]
     },
     "execution_count": 106,
     "metadata": {},
     "output_type": "execute_result"
    }
   ],
   "source": [
    "type(life_quote)"
   ]
  },
  {
   "cell_type": "markdown",
   "metadata": {
    "id": "-Lsn02aJqlO4"
   },
   "source": [
    "### Sentences"
   ]
  },
  {
   "cell_type": "code",
   "execution_count": null,
   "metadata": {
    "id": "cA3N_1ZFqlLe"
   },
   "outputs": [],
   "source": [
    "doc4 = nlp(u'This is the first sentence. This is another sentence. This is the last sentence.')"
   ]
  },
  {
   "cell_type": "code",
   "execution_count": null,
   "metadata": {
    "colab": {
     "base_uri": "https://localhost:8080/"
    },
    "executionInfo": {
     "elapsed": 132,
     "status": "ok",
     "timestamp": 1699492982236,
     "user": {
      "displayName": "Genghis Lopez",
      "userId": "12335099508766339007"
     },
     "user_tz": 300
    },
    "id": "ecsK8ZwGrFIU",
    "outputId": "9391921d-9b64-4bb0-c87b-c29119c356b8"
   },
   "outputs": [
    {
     "name": "stdout",
     "output_type": "stream",
     "text": [
      "This is the first sentence.\n",
      "This is another sentence.\n",
      "This is the last sentence.\n"
     ]
    }
   ],
   "source": [
    "for sentences in doc4.sents:\n",
    "    print(sentences)"
   ]
  },
  {
   "cell_type": "code",
   "execution_count": null,
   "metadata": {
    "id": "TO2o-2NorOwP"
   },
   "outputs": [],
   "source": []
  }
 ],
 "metadata": {
  "colab": {
   "collapsed_sections": [
    "YBd0BFmhQiru",
    "qaTDWywoaZ2y",
    "qwa-v2x2arCf"
   ],
   "provenance": [
    {
     "file_id": "1z9FsboAM5XCaTOe3Aiu5tacCtmXH4Xhf",
     "timestamp": 1699493132286
    }
   ]
  },
  "kernelspec": {
   "display_name": "Python 3 (ipykernel)",
   "language": "python",
   "name": "python3"
  },
  "language_info": {
   "codemirror_mode": {
    "name": "ipython",
    "version": 3
   },
   "file_extension": ".py",
   "mimetype": "text/x-python",
   "name": "python",
   "nbconvert_exporter": "python",
   "pygments_lexer": "ipython3",
   "version": "3.9.12"
  }
 },
 "nbformat": 4,
 "nbformat_minor": 1
}
