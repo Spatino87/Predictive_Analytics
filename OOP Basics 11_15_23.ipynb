{
 "cells": [
  {
   "cell_type": "code",
   "execution_count": null,
   "metadata": {
    "id": "-0I_7KHYVHMF"
   },
   "outputs": [],
   "source": [
    "# Object Oriented Programming\n",
    "# Refers to the object is the center piece of everything you do in programming\n",
    "# Objects have two main parts attributes and methods\n",
    "# Objects are made from a structure called a class aka a blueprint\n",
    "# Can create as many objects that you want from a blueprint"
   ]
  },
  {
   "cell_type": "code",
   "execution_count": null,
   "metadata": {},
   "outputs": [],
   "source": [
    "# To create a class use the keyword class follow by the name of the set class\n",
    "# Inside give it two variables\n",
    "# This creates a class called car \n",
    "class car:\n",
    "    model=2020\n",
    "    name=\"ford\""
   ]
  },
  {
   "cell_type": "code",
   "execution_count": null,
   "metadata": {
    "colab": {
     "base_uri": "https://localhost:8080/"
    },
    "executionInfo": {
     "elapsed": 139,
     "status": "ok",
     "timestamp": 1699923697625,
     "user": {
      "displayName": "Genghis Lopez",
      "userId": "12335099508766339007"
     },
     "user_tz": 300
    },
    "id": "Q4Ib17dBV4_6",
    "outputId": "45f8055c-674d-4e00-ebea-cb362bccfc51"
   },
   "outputs": [
    {
     "name": "stdout",
     "output_type": "stream",
     "text": [
      "2020 ford\n"
     ]
    }
   ],
   "source": [
    "# we can create objects from the class\n",
    "# call a variable and pass the class...() = function\n",
    "# now c has everything that the car class has \n",
    "# c is now an object from that class\n",
    "c = car()\n",
    "print(c.model, c.name)"
   ]
  },
  {
   "cell_type": "code",
   "execution_count": null,
   "metadata": {
    "id": "VMr3cCKWWR4H"
   },
   "outputs": [],
   "source": [
    "class animal:\n",
    "    age = 20\n",
    "    name = \"dog\"\n",
    "    color = \"Black\""
   ]
  },
  {
   "cell_type": "code",
   "execution_count": null,
   "metadata": {
    "colab": {
     "base_uri": "https://localhost:8080/"
    },
    "executionInfo": {
     "elapsed": 2,
     "status": "ok",
     "timestamp": 1699923799104,
     "user": {
      "displayName": "Genghis Lopez",
      "userId": "12335099508766339007"
     },
     "user_tz": 300
    },
    "id": "ZgvzE_U0WhZA",
    "outputId": "41496152-32af-4921-a800-c00f58bb36a4"
   },
   "outputs": [
    {
     "name": "stdout",
     "output_type": "stream",
     "text": [
      "20 dog Black\n"
     ]
    }
   ],
   "source": [
    "# when we create an object from a class it is referred to as an instantiate object \n",
    "a = animal()\n",
    "print(a.age, a.name, a.color)"
   ]
  },
  {
   "cell_type": "code",
   "execution_count": null,
   "metadata": {
    "colab": {
     "base_uri": "https://localhost:8080/"
    },
    "executionInfo": {
     "elapsed": 136,
     "status": "ok",
     "timestamp": 1699923814859,
     "user": {
      "displayName": "Genghis Lopez",
      "userId": "12335099508766339007"
     },
     "user_tz": 300
    },
    "id": "l2moVx9dWqnP",
    "outputId": "861dd836-b575-4483-e233-ee894a649080"
   },
   "outputs": [
    {
     "name": "stdout",
     "output_type": "stream",
     "text": [
      "20 dog Black\n"
     ]
    }
   ],
   "source": [
    "# we can create as many objects that we want\n",
    "b = animal()\n",
    "print(b.age, b.name, b.color)"
   ]
  },
  {
   "cell_type": "code",
   "execution_count": null,
   "metadata": {
    "colab": {
     "base_uri": "https://localhost:8080/"
    },
    "executionInfo": {
     "elapsed": 142,
     "status": "ok",
     "timestamp": 1699923822181,
     "user": {
      "displayName": "Genghis Lopez",
      "userId": "12335099508766339007"
     },
     "user_tz": 300
    },
    "id": "w7RpD4wcWuf3",
    "outputId": "45fc0ba5-16ca-4c28-8f6a-08ddb21d3dbc"
   },
   "outputs": [
    {
     "data": {
      "text/plain": [
       "False"
      ]
     },
     "execution_count": 8,
     "metadata": {},
     "output_type": "execute_result"
    }
   ],
   "source": [
    "# even though defined from the same class they are different objects\n",
    "b == a"
   ]
  },
  {
   "cell_type": "code",
   "execution_count": null,
   "metadata": {
    "id": "wNl8tfUtWwRI"
   },
   "outputs": [],
   "source": [
    "# the constructor method\n",
    "# a method within the class that allows every object constructed from a class to have \n",
    "# all the characteristics from that class \n",
    "class abc:\n",
    "    # constructor method\n",
    "    def __new__(self):\n",
    "        return \"abc\""
   ]
  },
  {
   "cell_type": "code",
   "execution_count": null,
   "metadata": {
    "colab": {
     "base_uri": "https://localhost:8080/"
    },
    "executionInfo": {
     "elapsed": 123,
     "status": "ok",
     "timestamp": 1699924006120,
     "user": {
      "displayName": "Genghis Lopez",
      "userId": "12335099508766339007"
     },
     "user_tz": 300
    },
    "id": "r1Nzi8quXZhB",
    "outputId": "d97aa9b2-55b6-499e-d57c-85677c950d3e"
   },
   "outputs": [
    {
     "name": "stdout",
     "output_type": "stream",
     "text": [
      "abc\n"
     ]
    }
   ],
   "source": [
    "# brings back the class\n",
    "t = abc()\n",
    "print(t)"
   ]
  },
  {
   "cell_type": "code",
   "execution_count": null,
   "metadata": {
    "colab": {
     "base_uri": "https://localhost:8080/"
    },
    "executionInfo": {
     "elapsed": 134,
     "status": "ok",
     "timestamp": 1699924015847,
     "user": {
      "displayName": "Genghis Lopez",
      "userId": "12335099508766339007"
     },
     "user_tz": 300
    },
    "id": "PloW-C8NXdLg",
    "outputId": "8b55ecfb-2ab7-4b72-992b-5816cf982616"
   },
   "outputs": [
    {
     "data": {
      "text/plain": [
       "str"
      ]
     },
     "execution_count": 11,
     "metadata": {},
     "output_type": "execute_result"
    }
   ],
   "source": [
    "# the constructor method is instantiating the object and returning abc\n",
    "type(t)"
   ]
  },
  {
   "cell_type": "code",
   "execution_count": null,
   "metadata": {
    "id": "2E29FUVbXfkv"
   },
   "outputs": [],
   "source": [
    "# main constructor\n",
    "# initialize\n",
    "# instead of giving it predefined names\n",
    "# predefined the attributes instead, let us know they exist\n",
    "# this constructor method tells every object that you create from this class must be defined with these things\n",
    "class car:\n",
    "    def __init__(self, name, model):\n",
    "        self.name = name\n",
    "        self.model = model"
   ]
  },
  {
   "cell_type": "code",
   "execution_count": null,
   "metadata": {
    "colab": {
     "base_uri": "https://localhost:8080/"
    },
    "executionInfo": {
     "elapsed": 134,
     "status": "ok",
     "timestamp": 1699924152358,
     "user": {
      "displayName": "Genghis Lopez",
      "userId": "12335099508766339007"
     },
     "user_tz": 300
    },
    "id": "Maf5yygUX2dv",
    "outputId": "ce5f1688-16d0-4f6d-8962-6f58c5129a17"
   },
   "outputs": [
    {
     "name": "stdout",
     "output_type": "stream",
     "text": [
      "ford 2020\n"
     ]
    }
   ],
   "source": [
    "# we have to pass positional arguments\n",
    "c = car(\"ford\", 2020)\n",
    "print(c.name, c.model)"
   ]
  },
  {
   "cell_type": "code",
   "execution_count": null,
   "metadata": {
    "colab": {
     "base_uri": "https://localhost:8080/"
    },
    "executionInfo": {
     "elapsed": 159,
     "status": "ok",
     "timestamp": 1699924163586,
     "user": {
      "displayName": "Genghis Lopez",
      "userId": "12335099508766339007"
     },
     "user_tz": 300
    },
    "id": "oLsHDCElX6i3",
    "outputId": "6346c4bb-e44d-40c9-cb27-24e47f693309"
   },
   "outputs": [
    {
     "name": "stdout",
     "output_type": "stream",
     "text": [
      "bmw 2021\n"
     ]
    }
   ],
   "source": [
    "v = car(\"bmw\", 2021)\n",
    "print(v.name, v.model)"
   ]
  },
  {
   "cell_type": "code",
   "execution_count": null,
   "metadata": {
    "colab": {
     "base_uri": "https://localhost:8080/"
    },
    "executionInfo": {
     "elapsed": 199,
     "status": "ok",
     "timestamp": 1699924183269,
     "user": {
      "displayName": "Genghis Lopez",
      "userId": "12335099508766339007"
     },
     "user_tz": 300
    },
    "id": "BDU3MKkaYDpI",
    "outputId": "5b6e5a66-2efc-45b4-fd5d-d05e01079c97"
   },
   "outputs": [
    {
     "name": "stdout",
     "output_type": "stream",
     "text": [
      "audi 2022\n"
     ]
    }
   ],
   "source": [
    "d = car(\"audi\", 2022)\n",
    "print(d.name, d.model)"
   ]
  },
  {
   "cell_type": "code",
   "execution_count": null,
   "metadata": {
    "id": "wgy7_xuiYHG_"
   },
   "outputs": [],
   "source": [
    "# empty class\n",
    "# has no methods no attributes\n",
    "# when you want to define methods and attributes later on \n",
    "class carv2:\n",
    "    pass"
   ]
  },
  {
   "cell_type": "code",
   "execution_count": null,
   "metadata": {
    "colab": {
     "base_uri": "https://localhost:8080/"
    },
    "executionInfo": {
     "elapsed": 151,
     "status": "ok",
     "timestamp": 1699924548239,
     "user": {
      "displayName": "Genghis Lopez",
      "userId": "12335099508766339007"
     },
     "user_tz": 300
    },
    "id": "dDtID9wOYTiv",
    "outputId": "9ab67e50-61dc-476f-8d49-4ea484f27f6a"
   },
   "outputs": [
    {
     "name": "stdout",
     "output_type": "stream",
     "text": [
      "<__main__.carv2 object at 0x78da81bb5d50>\n"
     ]
    }
   ],
   "source": [
    "r = carv2()\n",
    "print(r)"
   ]
  },
  {
   "cell_type": "code",
   "execution_count": null,
   "metadata": {
    "colab": {
     "base_uri": "https://localhost:8080/"
    },
    "executionInfo": {
     "elapsed": 208,
     "status": "ok",
     "timestamp": 1699924550039,
     "user": {
      "displayName": "Genghis Lopez",
      "userId": "12335099508766339007"
     },
     "user_tz": 300
    },
    "id": "9CrLh-ZdYYyn",
    "outputId": "86f64ef6-9d4f-4446-f119-d6b9d06ba243"
   },
   "outputs": [
    {
     "name": "stdout",
     "output_type": "stream",
     "text": [
      "The object from the clas car is ford, with car year 2020, with color black, and a price of 100000\n"
     ]
    }
   ],
   "source": [
    "# passing the attributes now\n",
    "# these attributes do not belong to the class they belong to the object\n",
    "# the class only is responsible for the creation\n",
    "# once the object is created it is not the classes concern\n",
    "# since we have not given the class any blueprints\n",
    "r.name = \"ford\"\n",
    "r.model = 2020\n",
    "r.color = \"black\"\n",
    "r.price = 100000\n",
    "print(f'The object from the clas car is {r.name}, with car year {r.model}, with color {r.color}, and a price of {r.price}')"
   ]
  },
  {
   "cell_type": "code",
   "execution_count": null,
   "metadata": {
    "colab": {
     "base_uri": "https://localhost:8080/"
    },
    "executionInfo": {
     "elapsed": 2,
     "status": "ok",
     "timestamp": 1699924559555,
     "user": {
      "displayName": "Genghis Lopez",
      "userId": "12335099508766339007"
     },
     "user_tz": 300
    },
    "id": "J_Rw48xjYign",
    "outputId": "058d6ddb-c610-41f9-eb61-c27ef53e5df2"
   },
   "outputs": [
    {
     "data": {
      "text/plain": [
       "['__class__',\n",
       " '__delattr__',\n",
       " '__dict__',\n",
       " '__dir__',\n",
       " '__doc__',\n",
       " '__eq__',\n",
       " '__format__',\n",
       " '__ge__',\n",
       " '__getattribute__',\n",
       " '__gt__',\n",
       " '__hash__',\n",
       " '__init__',\n",
       " '__init_subclass__',\n",
       " '__le__',\n",
       " '__lt__',\n",
       " '__module__',\n",
       " '__ne__',\n",
       " '__new__',\n",
       " '__reduce__',\n",
       " '__reduce_ex__',\n",
       " '__repr__',\n",
       " '__setattr__',\n",
       " '__sizeof__',\n",
       " '__str__',\n",
       " '__subclasshook__',\n",
       " '__weakref__']"
      ]
     },
     "execution_count": 27,
     "metadata": {},
     "output_type": "execute_result"
    }
   ],
   "source": [
    "# see all the methods that the class has \n",
    "# these are all built in methods \n",
    "dir(carv2)"
   ]
  },
  {
   "cell_type": "code",
   "execution_count": null,
   "metadata": {
    "id": "-hcLiM2oZaR-"
   },
   "outputs": [],
   "source": [
    "class car:\n",
    "    \"\"\"This is a instance method \"\"\"\n",
    "    model=2020\n",
    "    def cartype(self):\n",
    "        print(\"sports cars\")\n"
   ]
  },
  {
   "cell_type": "code",
   "execution_count": null,
   "metadata": {
    "colab": {
     "base_uri": "https://localhost:8080/"
    },
    "executionInfo": {
     "elapsed": 161,
     "status": "ok",
     "timestamp": 1699924692694,
     "user": {
      "displayName": "Genghis Lopez",
      "userId": "12335099508766339007"
     },
     "user_tz": 300
    },
    "id": "Xhj8Ihz4aCxF",
    "outputId": "14fbb33f-38ae-45c1-e62c-a8f21a919138"
   },
   "outputs": [
    {
     "name": "stdout",
     "output_type": "stream",
     "text": [
      "2020\n"
     ]
    }
   ],
   "source": [
    "c = car()\n",
    "print(c.model)"
   ]
  },
  {
   "cell_type": "code",
   "execution_count": null,
   "metadata": {
    "colab": {
     "base_uri": "https://localhost:8080/"
    },
    "executionInfo": {
     "elapsed": 163,
     "status": "ok",
     "timestamp": 1699924729608,
     "user": {
      "displayName": "Genghis Lopez",
      "userId": "12335099508766339007"
     },
     "user_tz": 300
    },
    "id": "wfrZM4h5aE0O",
    "outputId": "fb1c437b-e8c5-4b76-e2a8-d2879ba4b360"
   },
   "outputs": [
    {
     "name": "stdout",
     "output_type": "stream",
     "text": [
      "sports cars\n"
     ]
    }
   ],
   "source": [
    "# call from the class \n",
    "c.cartype()"
   ]
  },
  {
   "cell_type": "code",
   "execution_count": null,
   "metadata": {
    "colab": {
     "base_uri": "https://localhost:8080/"
    },
    "executionInfo": {
     "elapsed": 141,
     "status": "ok",
     "timestamp": 1699924742503,
     "user": {
      "displayName": "Genghis Lopez",
      "userId": "12335099508766339007"
     },
     "user_tz": 300
    },
    "id": "hfdGf5EmaN0O",
    "outputId": "bb6a0432-58f9-4a4a-95cb-06754d8f5c2f"
   },
   "outputs": [
    {
     "name": "stdout",
     "output_type": "stream",
     "text": [
      "THis is a instance method \n"
     ]
    }
   ],
   "source": [
    "# docstring from the class\n",
    "print(c.__doc__)"
   ]
  },
  {
   "cell_type": "code",
   "execution_count": null,
   "metadata": {
    "colab": {
     "base_uri": "https://localhost:8080/"
    },
    "executionInfo": {
     "elapsed": 141,
     "status": "ok",
     "timestamp": 1699924766394,
     "user": {
      "displayName": "Genghis Lopez",
      "userId": "12335099508766339007"
     },
     "user_tz": 300
    },
    "id": "SuEAMl3faQ-m",
    "outputId": "4d886abb-8231-45bc-a100-0570438fdb7e"
   },
   "outputs": [
    {
     "name": "stdout",
     "output_type": "stream",
     "text": [
      "{'__module__': '__main__', '__doc__': 'THis is a instance method ', 'model': 2020, 'cartype': <function car.cartype at 0x78da81b95ab0>, '__dict__': <attribute '__dict__' of 'car' objects>, '__weakref__': <attribute '__weakref__' of 'car' objects>}\n"
     ]
    }
   ],
   "source": [
    "# instance from the class\n",
    "print(car.__dict__)"
   ]
  },
  {
   "cell_type": "code",
   "execution_count": null,
   "metadata": {
    "id": "dXeJEcg_aWxu"
   },
   "outputs": [],
   "source": [
    "# define what attributes \n",
    "class car:\n",
    "    def __init__(self, name, color):\n",
    "        self.name = name\n",
    "        self.color = color\n",
    "\n",
    "    def car_detail(self):\n",
    "        print(\"Name of car\", self.name)\n",
    "        print(\"Color of car\", self.color)\n"
   ]
  },
  {
   "cell_type": "code",
   "execution_count": null,
   "metadata": {
    "colab": {
     "base_uri": "https://localhost:8080/"
    },
    "executionInfo": {
     "elapsed": 240,
     "status": "ok",
     "timestamp": 1699924855383,
     "user": {
      "displayName": "Genghis Lopez",
      "userId": "12335099508766339007"
     },
     "user_tz": 300
    },
    "id": "I8PQx4j5aqNf",
    "outputId": "553a12b8-9492-4d9f-bfac-35f392c694c6"
   },
   "outputs": [
    {
     "name": "stdout",
     "output_type": "stream",
     "text": [
      "Name of car ford\n",
      "Color of car black\n"
     ]
    }
   ],
   "source": [
    "c = car(\"ford\", \"black\")\n",
    "c.car_detail()"
   ]
  },
  {
   "cell_type": "code",
   "execution_count": null,
   "metadata": {
    "id": "7mC8Q2VsashH"
   },
   "outputs": [],
   "source": [
    "class car:\n",
    "    def __init__(self,name,color,model):\n",
    "        self.name=name\n",
    "        self.color=color\n",
    "        self.model=model\n",
    "\n"
   ]
  },
  {
   "cell_type": "code",
   "execution_count": null,
   "metadata": {
    "id": "iFOkTFYMa7Y-"
   },
   "outputs": [],
   "source": [
    "c1 = car(\"ford\", \"black\", 2020)"
   ]
  },
  {
   "cell_type": "code",
   "execution_count": null,
   "metadata": {
    "id": "vLwbTDsGa-S-"
   },
   "outputs": [],
   "source": [
    "c2 = car(\"bmw\", \"white\", 2021)"
   ]
  },
  {
   "cell_type": "code",
   "execution_count": null,
   "metadata": {
    "id": "ewRLmy5Ya_cW"
   },
   "outputs": [],
   "source": [
    "c3 = car(\"audi\", \"red\", 2022)"
   ]
  },
  {
   "cell_type": "code",
   "execution_count": null,
   "metadata": {
    "colab": {
     "base_uri": "https://localhost:8080/"
    },
    "executionInfo": {
     "elapsed": 154,
     "status": "ok",
     "timestamp": 1699924960134,
     "user": {
      "displayName": "Genghis Lopez",
      "userId": "12335099508766339007"
     },
     "user_tz": 300
    },
    "id": "kL0lR1npbBbG",
    "outputId": "c7c1134f-0053-4447-d4e1-79b66b3b5fd1"
   },
   "outputs": [
    {
     "name": "stdout",
     "output_type": "stream",
     "text": [
      "ford black 2020\n"
     ]
    }
   ],
   "source": [
    "print(c1.name, c1.color, c1.model)"
   ]
  },
  {
   "cell_type": "code",
   "execution_count": null,
   "metadata": {
    "id": "Z_MdeL-4bD4P"
   },
   "outputs": [],
   "source": [
    "# does not delete from the class, acting on the object\n",
    "del c1.name"
   ]
  },
  {
   "cell_type": "code",
   "execution_count": null,
   "metadata": {
    "id": "XKDhIvy2bIbG"
   },
   "outputs": [],
   "source": [
    "del c2"
   ]
  },
  {
   "cell_type": "code",
   "execution_count": null,
   "metadata": {
    "colab": {
     "base_uri": "https://localhost:8080/"
    },
    "executionInfo": {
     "elapsed": 198,
     "status": "ok",
     "timestamp": 1699925003424,
     "user": {
      "displayName": "Genghis Lopez",
      "userId": "12335099508766339007"
     },
     "user_tz": 300
    },
    "id": "PWGG0ShabKZn",
    "outputId": "e440f81c-e4a7-4614-e533-47a31fd7228e"
   },
   "outputs": [
    {
     "name": "stdout",
     "output_type": "stream",
     "text": [
      "black 2020\n"
     ]
    }
   ],
   "source": [
    "print(c1.color, c1.model)"
   ]
  },
  {
   "cell_type": "code",
   "execution_count": null,
   "metadata": {
    "id": "V3RFcQ_qbOOw"
   },
   "outputs": [],
   "source": [
    "# parent class\n",
    "# inherentance when you create a class that inherits everything from another class\n",
    "class parent:\n",
    "    parentname = \"\"\n",
    "    childname = \"\"\n",
    "    def show_parent(self):\n",
    "        print(self.parentname)\n"
   ]
  },
  {
   "cell_type": "code",
   "execution_count": null,
   "metadata": {
    "id": "ZVDcCOVgbowO"
   },
   "outputs": [],
   "source": [
    "# this is child class which is inherites from parent\n",
    "class Child(parent):\n",
    "    def show_child(self):\n",
    "        print(self.childname)\n"
   ]
  },
  {
   "cell_type": "markdown",
   "metadata": {
    "id": "gUyraxyFcgdl"
   },
   "source": [
    "#### The 3 pillars of OOP are Inheritance, Polymorphism and encapsulation"
   ]
  },
  {
   "cell_type": "code",
   "execution_count": null,
   "metadata": {
    "colab": {
     "base_uri": "https://localhost:8080/"
    },
    "executionInfo": {
     "elapsed": 134,
     "status": "ok",
     "timestamp": 1699925232570,
     "user": {
      "displayName": "Genghis Lopez",
      "userId": "12335099508766339007"
     },
     "user_tz": 300
    },
    "id": "mm3DYD9rb6dm",
    "outputId": "b55ad48d-fb89-43de-a340-86ab71930f01"
   },
   "outputs": [
    {
     "name": "stdout",
     "output_type": "stream",
     "text": [
      "parent\n",
      "child\n"
     ]
    }
   ],
   "source": [
    "c = Child()\n",
    "c.parentname = \"parent\"\n",
    "c.childname = \"child\"\n",
    "c.show_parent()\n",
    "c.show_child()"
   ]
  },
  {
   "cell_type": "code",
   "execution_count": null,
   "metadata": {
    "id": "9wlAIRuncIoW"
   },
   "outputs": [],
   "source": [
    "class car:\n",
    "    def __init__(self,name=\"ford\",model=2015):\n",
    "        self.name=name\n",
    "        self.model=model\n",
    "    def sport(self):\n",
    "        print(\"this is sport car\")\n"
   ]
  },
  {
   "cell_type": "code",
   "execution_count": null,
   "metadata": {
    "id": "RUikZMxAcQd_"
   },
   "outputs": [],
   "source": [
    "class sportcar(car):\n",
    "    pass"
   ]
  },
  {
   "cell_type": "code",
   "execution_count": null,
   "metadata": {
    "id": "oWM8q89jcTl2"
   },
   "outputs": [],
   "source": [
    "c = sportcar(\"sportcar\")"
   ]
  },
  {
   "cell_type": "code",
   "execution_count": null,
   "metadata": {
    "colab": {
     "base_uri": "https://localhost:8080/"
    },
    "executionInfo": {
     "elapsed": 146,
     "status": "ok",
     "timestamp": 1699925330275,
     "user": {
      "displayName": "Genghis Lopez",
      "userId": "12335099508766339007"
     },
     "user_tz": 300
    },
    "id": "ey4wZtXXceAN",
    "outputId": "3891a246-c75b-42f7-ee17-d15439f6d2cf"
   },
   "outputs": [
    {
     "name": "stdout",
     "output_type": "stream",
     "text": [
      "this is sport car\n"
     ]
    }
   ],
   "source": [
    "c.sport()"
   ]
  },
  {
   "cell_type": "code",
   "execution_count": null,
   "metadata": {
    "id": "BiqiUik4RFMk"
   },
   "outputs": [],
   "source": [
    "#parent class\n",
    "class parent:\n",
    "    parentname=\"\"\n",
    "    childname=\"\"\n",
    "    def showparent(self):\n",
    "        print(self.parentname)\n"
   ]
  },
  {
   "cell_type": "code",
   "execution_count": null,
   "metadata": {
    "id": "PvaHERW1RFKb"
   },
   "outputs": [],
   "source": [
    "#this is child class which is inherites from parent\n",
    "class Child(parent):\n",
    "    def show_child(self):\n",
    "        print(self.childname)\n"
   ]
  },
  {
   "cell_type": "code",
   "execution_count": null,
   "metadata": {
    "id": "Mlo3oEfsRFGq"
   },
   "outputs": [],
   "source": [
    "#this object of child class\n",
    "c=Child()\n"
   ]
  },
  {
   "cell_type": "code",
   "execution_count": null,
   "metadata": {
    "colab": {
     "base_uri": "https://localhost:8080/"
    },
    "executionInfo": {
     "elapsed": 125,
     "status": "ok",
     "timestamp": 1700090399907,
     "user": {
      "displayName": "Genghis Lopez",
      "userId": "12335099508766339007"
     },
     "user_tz": 300
    },
    "id": "W3bVv_yiRFDu",
    "outputId": "be76159a-dcbd-4e06-bb06-97840b901856"
   },
   "outputs": [
    {
     "name": "stdout",
     "output_type": "stream",
     "text": [
      "BOB\n",
      "David\n"
     ]
    }
   ],
   "source": [
    "c.parentname=\"BOB\"\n",
    "c.childname=\"David\"\n",
    "c.showparent()\n",
    "c.show_child()\n"
   ]
  },
  {
   "cell_type": "code",
   "execution_count": null,
   "metadata": {
    "id": "kPr2KRcURFAm"
   },
   "outputs": [],
   "source": [
    "class son(parent):\n",
    "    def showchild(self):\n",
    "        print(self.childname)\n"
   ]
  },
  {
   "cell_type": "code",
   "execution_count": null,
   "metadata": {
    "id": "_Slbu5d4RE94"
   },
   "outputs": [],
   "source": [
    "class daughter(parent):\n",
    "    def showchild(self):\n",
    "        print(self.childname)\n"
   ]
  },
  {
   "cell_type": "code",
   "execution_count": null,
   "metadata": {
    "colab": {
     "base_uri": "https://localhost:8080/"
    },
    "executionInfo": {
     "elapsed": 164,
     "status": "ok",
     "timestamp": 1700090403163,
     "user": {
      "displayName": "Genghis Lopez",
      "userId": "12335099508766339007"
     },
     "user_tz": 300
    },
    "id": "_oFa7m1VRE5v",
    "outputId": "c10d7471-5d0e-41c1-a25b-f016f8a0cb0d"
   },
   "outputs": [
    {
     "name": "stdout",
     "output_type": "stream",
     "text": [
      "BoB\n",
      "david\n"
     ]
    }
   ],
   "source": [
    "s = son()\n",
    "s.parentname=\"BoB\"\n",
    "s.childname=\"david\"\n",
    "s.showparent()\n",
    "s.showchild()\n",
    "\n"
   ]
  },
  {
   "cell_type": "code",
   "execution_count": null,
   "metadata": {
    "colab": {
     "base_uri": "https://localhost:8080/"
    },
    "executionInfo": {
     "elapsed": 133,
     "status": "ok",
     "timestamp": 1700090416384,
     "user": {
      "displayName": "Genghis Lopez",
      "userId": "12335099508766339007"
     },
     "user_tz": 300
    },
    "id": "UiOOI6ifSHCy",
    "outputId": "fa3d9c48-55f5-4e65-f709-6fe59b187dda"
   },
   "outputs": [
    {
     "name": "stdout",
     "output_type": "stream",
     "text": [
      "BOB\n",
      "alexa\n"
     ]
    }
   ],
   "source": [
    "d = daughter()\n",
    "d.childname=\"alexa\"\n",
    "d.parentname=\"BOB\"\n",
    "d.showparent()\n",
    "d.showchild()"
   ]
  },
  {
   "cell_type": "code",
   "execution_count": null,
   "metadata": {
    "id": "ausOCFhFSN-Q"
   },
   "outputs": [],
   "source": [
    "class family:\n",
    "    def showfamily(self):\n",
    "        print(\"This is family of 3 people\")\n"
   ]
  },
  {
   "cell_type": "code",
   "execution_count": null,
   "metadata": {
    "id": "OQmNtUQASXqy"
   },
   "outputs": [],
   "source": [
    "class father(family):\n",
    "    def fathername(self):\n",
    "        print(\"father name is bob\")\n"
   ]
  },
  {
   "cell_type": "code",
   "execution_count": null,
   "metadata": {
    "id": "fUnfSNXYSaKk"
   },
   "outputs": [],
   "source": [
    "class son(father):\n",
    "    def sonname(self):\n",
    "        print(\"son name is david\")\n"
   ]
  },
  {
   "cell_type": "code",
   "execution_count": null,
   "metadata": {
    "colab": {
     "base_uri": "https://localhost:8080/"
    },
    "executionInfo": {
     "elapsed": 140,
     "status": "ok",
     "timestamp": 1700090478358,
     "user": {
      "displayName": "Genghis Lopez",
      "userId": "12335099508766339007"
     },
     "user_tz": 300
    },
    "id": "0fYcjNREScLc",
    "outputId": "f20d0fd8-2cf9-418a-e5bd-23da67cb5d28"
   },
   "outputs": [
    {
     "name": "stdout",
     "output_type": "stream",
     "text": [
      "father name is bob\n",
      "This is family of 3 people\n",
      "son name is david\n"
     ]
    }
   ],
   "source": [
    "f=son()\n",
    "f.fathername()\n",
    "f.showfamily()\n",
    "f.sonname()\n"
   ]
  },
  {
   "cell_type": "code",
   "execution_count": null,
   "metadata": {
    "id": "FJSV4YhwSf0s"
   },
   "outputs": [],
   "source": [
    "class father:\n",
    "    def __init__(self, fathername, fatherage):\n",
    "        self.name = fathername\n",
    "        self.age = fatherage\n",
    "    def showname(self):\n",
    "        print(self.name)\n",
    "    def age(self):\n",
    "        print(self.age)\n"
   ]
  },
  {
   "cell_type": "code",
   "execution_count": null,
   "metadata": {
    "id": "M4kya4ALS1p_"
   },
   "outputs": [],
   "source": [
    "class mother:\n",
    "    def __init__(self, mothername):\n",
    "        self.mothername = mothername\n",
    "    def showmothername(self):\n",
    "        return self.mothername\n"
   ]
  },
  {
   "cell_type": "code",
   "execution_count": null,
   "metadata": {
    "id": "BAXr--wJS4z_"
   },
   "outputs": [],
   "source": [
    "class son(father, mother):\n",
    "    def __init__(self, name, age, mothername):\n",
    "        father.__init__(self, name, age)\n",
    "        mother.__init__(self, mothername)\n"
   ]
  },
  {
   "cell_type": "code",
   "execution_count": null,
   "metadata": {
    "colab": {
     "base_uri": "https://localhost:8080/"
    },
    "executionInfo": {
     "elapsed": 131,
     "status": "ok",
     "timestamp": 1700090666899,
     "user": {
      "displayName": "Genghis Lopez",
      "userId": "12335099508766339007"
     },
     "user_tz": 300
    },
    "id": "SdJvGooPTA6e",
    "outputId": "03c9c7d4-2bb2-499c-90fd-1903f1612c48"
   },
   "outputs": [
    {
     "name": "stdout",
     "output_type": "stream",
     "text": [
      "David\n",
      "alexa\n"
     ]
    }
   ],
   "source": [
    "s = son(\"David\", 50, \"alexa\")\n",
    "s.showname()\n",
    "print(s.showmothername())\n"
   ]
  },
  {
   "cell_type": "code",
   "execution_count": null,
   "metadata": {
    "id": "FX3xGy7YTN2Y"
   },
   "outputs": [],
   "source": [
    "# f = son()"
   ]
  },
  {
   "cell_type": "markdown",
   "metadata": {
    "id": "NwbCPaoNTQaw"
   },
   "source": [
    "## Encapsulation"
   ]
  },
  {
   "cell_type": "code",
   "execution_count": null,
   "metadata": {
    "id": "5j7ihjQDThoe"
   },
   "outputs": [],
   "source": [
    "class encapsulation:\n",
    "    __name = None\n",
    "\n",
    "    def __init__(self, name):\n",
    "        self.__name = name\n",
    "    def getname(self):\n",
    "        return self.__name\n"
   ]
  },
  {
   "cell_type": "code",
   "execution_count": null,
   "metadata": {
    "id": "r1908choThlF"
   },
   "outputs": [],
   "source": [
    "e = encapsulation(\"Encapsulation\")\n"
   ]
  },
  {
   "cell_type": "markdown",
   "metadata": {
    "id": "9vrr55qnThio"
   },
   "source": [
    "## Polymorphism"
   ]
  },
  {
   "cell_type": "code",
   "execution_count": null,
   "metadata": {
    "id": "XwVllyo-ThgS"
   },
   "outputs": [],
   "source": [
    "class animal:\n",
    "    def noise(self):\n",
    "        raise NotImplementedError\n"
   ]
  },
  {
   "cell_type": "code",
   "execution_count": null,
   "metadata": {
    "id": "doDXpy0MThcT"
   },
   "outputs": [],
   "source": [
    "class cat(animal):\n",
    "    def noise(self):\n",
    "        print(\"Meoow\")\n"
   ]
  },
  {
   "cell_type": "code",
   "execution_count": null,
   "metadata": {
    "id": "4QBbpjHxThYv"
   },
   "outputs": [],
   "source": [
    "class dog(animal):\n",
    "    def noise(self):\n",
    "        print(\"woof\")\n"
   ]
  },
  {
   "cell_type": "code",
   "execution_count": null,
   "metadata": {
    "colab": {
     "base_uri": "https://localhost:8080/"
    },
    "executionInfo": {
     "elapsed": 2,
     "status": "ok",
     "timestamp": 1700091322605,
     "user": {
      "displayName": "Genghis Lopez",
      "userId": "12335099508766339007"
     },
     "user_tz": 300
    },
    "id": "LR3AV17KThVk",
    "outputId": "39ecd863-b998-4cec-882e-f0e67377b9e4"
   },
   "outputs": [
    {
     "name": "stdout",
     "output_type": "stream",
     "text": [
      "Meoow\n",
      "woof\n"
     ]
    }
   ],
   "source": [
    "a=cat()\n",
    "a.noise()\n",
    "a=dog()\n",
    "a.noise()\n"
   ]
  },
  {
   "cell_type": "markdown",
   "metadata": {
    "id": "umNbQKokThSj"
   },
   "source": [
    "## The super keyword"
   ]
  },
  {
   "cell_type": "code",
   "execution_count": null,
   "metadata": {
    "id": "rquMKFt1V3Ji"
   },
   "outputs": [],
   "source": [
    "class A:\n",
    "    def method1(self):\n",
    "        print(\"I am calling parent class\")\n"
   ]
  },
  {
   "cell_type": "code",
   "execution_count": null,
   "metadata": {
    "id": "NjITmHNZV3GS"
   },
   "outputs": [],
   "source": [
    "class B(A):\n",
    "    def method1(self):\n",
    "        print(\"Calling the child class\")\n",
    "        super().method1()\n"
   ]
  },
  {
   "cell_type": "code",
   "execution_count": null,
   "metadata": {
    "id": "QsrCIa7GV3Dh"
   },
   "outputs": [],
   "source": [
    "c = B()"
   ]
  },
  {
   "cell_type": "code",
   "execution_count": null,
   "metadata": {
    "colab": {
     "base_uri": "https://localhost:8080/"
    },
    "executionInfo": {
     "elapsed": 137,
     "status": "ok",
     "timestamp": 1700091683099,
     "user": {
      "displayName": "Genghis Lopez",
      "userId": "12335099508766339007"
     },
     "user_tz": 300
    },
    "id": "oQ5wIqt-V3AV",
    "outputId": "60061286-0a6f-4849-847e-34c98a5bd221"
   },
   "outputs": [
    {
     "name": "stdout",
     "output_type": "stream",
     "text": [
      "Calling the child class\n",
      "I am calling parent class\n"
     ]
    }
   ],
   "source": [
    "c.method1()"
   ]
  },
  {
   "cell_type": "markdown",
   "metadata": {
    "id": "ValbjQ0QXF9W"
   },
   "source": [
    "#### The `Super()` method is used to give access to functions and attributes of a parent or sibling class.  It returns an object that represents the parent class!"
   ]
  }
 ],
 "metadata": {
  "accelerator": "GPU",
  "colab": {
   "gpuType": "T4",
   "provenance": [
    {
     "file_id": "1NS5kZaMGBKHipFE-oXY0L-QYKkD-GmeE",
     "timestamp": 1700092624897
    }
   ]
  },
  "kernelspec": {
   "display_name": "Python 3 (ipykernel)",
   "language": "python",
   "name": "python3"
  },
  "language_info": {
   "codemirror_mode": {
    "name": "ipython",
    "version": 3
   },
   "file_extension": ".py",
   "mimetype": "text/x-python",
   "name": "python",
   "nbconvert_exporter": "python",
   "pygments_lexer": "ipython3",
   "version": "3.9.12"
  }
 },
 "nbformat": 4,
 "nbformat_minor": 1
}
