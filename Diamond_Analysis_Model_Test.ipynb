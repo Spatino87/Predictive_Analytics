{
  "nbformat": 4,
  "nbformat_minor": 0,
  "metadata": {
    "colab": {
      "provenance": [],
      "mount_file_id": "1CuuBKJxHvMJNjkHcnbohRh26Vx1xQDcQ",
      "authorship_tag": "ABX9TyMjv0nPBv6lFC4nxZxJY7n5",
      "include_colab_link": true
    },
    "kernelspec": {
      "name": "python3",
      "display_name": "Python 3"
    },
    "language_info": {
      "name": "python"
    }
  },
  "cells": [
    {
      "cell_type": "markdown",
      "metadata": {
        "id": "view-in-github",
        "colab_type": "text"
      },
      "source": [
        "<a href=\"https://colab.research.google.com/github/Spatino87/Predictive_Analytics/blob/main/Diamond_Analysis_Model_Test.ipynb\" target=\"_parent\"><img src=\"https://colab.research.google.com/assets/colab-badge.svg\" alt=\"Open In Colab\"/></a>"
      ]
    },
    {
      "cell_type": "code",
      "execution_count": 32,
      "metadata": {
        "id": "G81wkYPXWRZh"
      },
      "outputs": [],
      "source": [
        "# Need the pickle libary\n",
        "# Need the Numpy library\n",
        "import numpy as np\n",
        "import pickle"
      ]
    },
    {
      "cell_type": "code",
      "source": [
        "# bring in the path where the model was saved\n",
        "model = '/content/drive/MyDrive/Classroom/Data Science: Predictive Analytics Cohort 5/Projects/Diamond Dataset Analysis/mdl_file'"
      ],
      "metadata": {
        "id": "wcgk3CqpWVQ7"
      },
      "execution_count": 47,
      "outputs": []
    },
    {
      "cell_type": "code",
      "source": [
        "with open(model, 'rb') as file:\n",
        "  #rb = read and byte\n",
        "  model = pickle.load(file)"
      ],
      "metadata": {
        "id": "0KAjL0k9Ws0z"
      },
      "execution_count": 48,
      "outputs": []
    },
    {
      "cell_type": "code",
      "source": [
        "# create an np array\n",
        "test_x = np.zeros((1, 7))\n",
        "test_x"
      ],
      "metadata": {
        "colab": {
          "base_uri": "https://localhost:8080/"
        },
        "id": "8CTl4wrlWxlv",
        "outputId": "3f67e9c9-068a-463f-c58c-297ce2f5a7b2"
      },
      "execution_count": 52,
      "outputs": [
        {
          "output_type": "execute_result",
          "data": {
            "text/plain": [
              "array([[0., 0., 0., 0., 0., 0., 0.]])"
            ]
          },
          "metadata": {},
          "execution_count": 52
        }
      ]
    },
    {
      "cell_type": "code",
      "source": [
        "test_x = np.zeros((1, 7))\n",
        "\n",
        "test_x[0, 0] = 2.21 # carat\n",
        "test_x[0, 1] = 5.89 # x dimension\n",
        "test_x[0, 2] = 5.84 # y dimension\n",
        "test_x[0, 3] = 4.31 # z dimension\n",
        "test_x[0, 4] = 1 # Premium\n",
        "test_x[0, 5] = 0 # VS1\n",
        "test_x[0, 6] = 1 # E - Color\n",
        "\n",
        "test_x"
      ],
      "metadata": {
        "colab": {
          "base_uri": "https://localhost:8080/"
        },
        "id": "5RC0jhLKW6d5",
        "outputId": "387a8354-60ec-4047-b3b2-8b90577cdcd5"
      },
      "execution_count": 56,
      "outputs": [
        {
          "output_type": "execute_result",
          "data": {
            "text/plain": [
              "array([[2.21, 5.89, 5.84, 4.31, 1.  , 0.  , 1.  ]])"
            ]
          },
          "metadata": {},
          "execution_count": 56
        }
      ]
    },
    {
      "cell_type": "code",
      "source": [
        "prediction = model.predict(test_x)\n",
        "round(float(prediction[0]), 2)"
      ],
      "metadata": {
        "colab": {
          "base_uri": "https://localhost:8080/"
        },
        "id": "B5LOYI9yW-r1",
        "outputId": "6a6a916d-2201-4821-d225-ce93e5e9b406"
      },
      "execution_count": 58,
      "outputs": [
        {
          "output_type": "execute_result",
          "data": {
            "text/plain": [
              "-18.31"
            ]
          },
          "metadata": {},
          "execution_count": 58
        }
      ]
    }
  ]
}